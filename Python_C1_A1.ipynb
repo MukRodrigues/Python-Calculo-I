{
  "nbformat": 4,
  "nbformat_minor": 0,
  "metadata": {
    "colab": {
      "provenance": [],
      "toc_visible": true,
      "authorship_tag": "ABX9TyNhZaYOIkeXc0Q986pe/Ikf",
      "include_colab_link": true
    },
    "kernelspec": {
      "name": "python3",
      "display_name": "Python 3"
    },
    "language_info": {
      "name": "python"
    }
  },
  "cells": [
    {
      "cell_type": "markdown",
      "metadata": {
        "id": "view-in-github",
        "colab_type": "text"
      },
      "source": [
        "<a href=\"https://colab.research.google.com/github/MukRodrigues/Python-Calculo-I/blob/main/Python_C1_A1.ipynb\" target=\"_parent\"><img src=\"https://colab.research.google.com/assets/colab-badge.svg\" alt=\"Open In Colab\"/></a>"
      ]
    },
    {
      "cell_type": "markdown",
      "source": [
        "# **XVIII Semana do IME**"
      ],
      "metadata": {
        "id": "MkyS8ZteMQC4"
      }
    },
    {
      "cell_type": "markdown",
      "source": [
        "<img src=\"https://images.even3.com/OJopDZFuJnBgAuP-51IfsFjb2So=/1100x440/smart/https://static.even3.com/banner/faixaEVEN3XVIIISemanaDoIME.785c694863d74dd5ad33.png\" width=\"1000\">"
      ],
      "metadata": {
        "id": "wireTU5fMS_u"
      }
    },
    {
      "cell_type": "markdown",
      "source": [
        "<img src=\"https://www.uerj.br/wp-content/uploads/2018/02/logomarca-uerj.png\" width=\"150\">\n",
        "\n",
        "\n",
        "\n",
        "<img src=\"https://www.ime.uerj.br/wp-content/uploads/2021/08/ime-logo.png\" width=\"350\">\n",
        "\n",
        "\n",
        "<img src=\"https://ccomp.ime.uerj.br/wp-content/uploads/2024/10/Logo-CompMat-Home.png\" width=\"250\">\n",
        "\n"
      ],
      "metadata": {
        "id": "tAgKyDbUfpeQ"
      }
    },
    {
      "cell_type": "markdown",
      "source": [
        "# **Cálculo 1 com Python**\n",
        "\n",
        "#### Inscrição: https://www.even3.com.br/xviii-semana-do-ime-622247/\n",
        "\n",
        "\n",
        "**Instrutor: Samuel Rodrigues**\n",
        "\n",
        "\n",
        "#### Lattes: https://lattes.cnpq.br/9400647055736707"
      ],
      "metadata": {
        "id": "PllQ6LcjzIla"
      }
    },
    {
      "cell_type": "markdown",
      "source": [
        "## **Aula 1**\n",
        "![aula1.png](data:image/png;base64,iVBORw0KGgoAAAANSUhEUgAAAOEAAADhAQAAAAAWyO/XAAAB/0lEQVR42u2YPY6EMAyFzaZIyRG4CVwMaZC4GNwkR6BMMcL7njPMdlOsdmUXUMwPaZ6cl8/PEf3wLHKv3qu/XT1EpNPnkPdDBvxOmjd8Zax+yafn/1ap6qG6H/Ogm8xDnY5Z8g7B3qouGZs8FG/mVrUIqihj12WQ7kgsXQxVuprPSj77VUPUynyVioz907TE8BXP4GFuuj4CnME3Iyio0u3vd761QnFS0Q2WqnxXx34t/qrqKADoBHPB7bDU2Rt8fc/gYCgwitqRRNUWfzKwTOZx+Ko7iFL/HQSqTBCa4ar4WCjNnVd4KlHVeGoFw19vX5HoG2TkE3EB0mB5SHPPDOl16NCdS50o0nbVuVbYPLSYQqMXe0doufsKdTmZX7S5nX8D+ApEJw9qi1aomprN3NneCsb0QHIJ0oN/Zkj6k/p0f/HKPTMggY5XZG9zxRmC7Vfqg76Jqc946l0rA2jRk7waMVKEyKKMVk1QKpavNMI8OIv1wTZ5daoheNV6cmKLXlqLNjz416oB6uUroPSkubwnLwsJ5NVaGPg4QMugAWYcULRdMRBV2VJzhHmQqQq+QpJZOBSmEmF25jxovrIWzV3VCLcf1mwuyl949VfFQQepb0IfbBsaQRVjslhwsGajIXxlo9YFUGEIDHEnIy0hZ7tsaMEhwJ3MfXd9r/7h6jeoBsi19oMc9AAAAABJRU5ErkJggg==)\n",
        "\n",
        "**Conteúdo**\n",
        "\n",
        "*  **Introdução**: o que é Python, declaração de variáveis numéricas e operações aritméticas;\n",
        "\n",
        "* **Funções Matemáticas**: biblioteca Sympy, conceitos fundamentais do cálculo, declaração de variáveis e funções matemáticas, operação com funções e plotagem de gráficos.\n",
        "\n",
        "\n",
        "\n",
        "**Referências:**\n",
        "\n",
        "* Guidorizzi, H. *Um curso de cálculo.* Vol I. - 5.ed.- Rio de Janeiro: LTC, 2013. ISBN 978-85-216-2244-4.\n",
        "\n",
        "* Carvalhaes, C. G; *et al*. *Cálculo Diferencial e Integral de Funções de uma variável com Python*. Rio de Janeiro: Editora Ciência Moderna Ltda., 2019. ISBN: 978-85-399-1037-3.\n",
        "\n",
        "* https://www.sympy.org/en/index.html\n",
        "\n",
        "* https://numpy.org/doc/stable/reference/routines.math.html"
      ],
      "metadata": {
        "id": "QWm05-ny494J"
      }
    },
    {
      "cell_type": "markdown",
      "source": [
        "## 1 - O que é Python?\n",
        "\n",
        "\n",
        "Python é uma linguagem de programação de uso geral. Isso significa que é uma linguagem que funciona para criar uma grande variedade de aplicações diferentes.\n",
        "\n",
        "Por ser uma linguagem extremamente versátil e de fácil compreensão, ela se tornou uma das linguagens mais comuns da atualidade, sendo utilizada para diversas finalidades:\n",
        "\n",
        "* A análise de dados;\n",
        "* Machine Learning (aprendizado de máquina);\n",
        "* Desenvolvimento web;\n",
        "* Automação;\n",
        "* Desenvolvimento de app;\n",
        "* etc.\n",
        "\n",
        "\n",
        "Além disso, aprender essa linguagem pode ser muito vantajoso porque ela:\n",
        "\n",
        "* Possui uma sintaxe simples;\n",
        "* É de código aberto;\n",
        "* É versátil;\n",
        "* Tem uma comunidade fiel e ativa, o que facilita o aprendizado;\n",
        "* É utilizado por grandes empresas, sendo bastante popular na Ciência de Dados;\n",
        "* Está em alta no mercado de trabalho.\n",
        "\n",
        "\n",
        "\n",
        "Baseado no artigo da Alura:\n",
        "\n",
        "https://www.alura.com.br/artigos/python?srsltid=AfmBOoq5JEDcITo2due9T5-26Ugdnzo21BSPvYJVbpEnqHjtaBqjcv0C\n"
      ],
      "metadata": {
        "id": "4s6v85xT3RWZ"
      }
    },
    {
      "cell_type": "markdown",
      "source": [
        "## 2 - Aritmética básica\n",
        "\n",
        "**Como o Python pode ajudar no aprendizado da Matemática e contribuir para que cientistas das áreas exatas possam ampliar as suas fronteiras de conhecimento?**\n",
        "\n",
        "R: Ele pode ajudar na resolução de problemas:\n",
        "* de aritmética (ex.: contagem);\n",
        "* de cálculo diferencial e integral;\n",
        "* que envolvam matrizes e suas decomposições;\n",
        "* de simulação numérica de equações diferencias (ordinárias, parciais, estocásticas);\n",
        "* etc."
      ],
      "metadata": {
        "id": "62gYy4Zr8Ef9"
      }
    },
    {
      "cell_type": "markdown",
      "source": [
        "### Declaração de variáveis"
      ],
      "metadata": {
        "id": "7uky97BNwwet"
      }
    },
    {
      "cell_type": "markdown",
      "source": [
        "\n",
        "\n",
        "* **Strings** - caracteres, palavras e textos, que devem ser declarados entre aspas simples ou duplas após o sinal de (=).\n",
        "\n",
        "**Exemplo** (mais manjado do mundo):\n",
        "\n",
        "mensagem = 'Olá,  mundo!'  \n",
        "\n",
        "\n",
        "**Obs**.: pode-se fazer comentários escrevendo textos após o 'hashtag' (#)\n"
      ],
      "metadata": {
        "id": "aDUqhjKryltl"
      }
    },
    {
      "cell_type": "code",
      "source": [
        "# transcreva o exemplo nesssa célula e aperte shift+enter para executar o código\n",
        "mensagem = 'Olá, mundo!'"
      ],
      "metadata": {
        "id": "it0vN_JcJJSe"
      },
      "execution_count": 1,
      "outputs": []
    },
    {
      "cell_type": "code",
      "source": [
        "# chame a variável mensagem dessa forma..\n",
        "mensagem"
      ],
      "metadata": {
        "id": "PzETwNGSh-r7",
        "colab": {
          "base_uri": "https://localhost:8080/",
          "height": 36
        },
        "outputId": "39255d93-49e9-46bd-c866-4d388e17b3cf"
      },
      "execution_count": 32,
      "outputs": [
        {
          "output_type": "execute_result",
          "data": {
            "text/plain": [
              "'Olá, mundo!'"
            ],
            "application/vnd.google.colaboratory.intrinsic+json": {
              "type": "string"
            }
          },
          "metadata": {},
          "execution_count": 32
        }
      ]
    },
    {
      "cell_type": "code",
      "source": [
        "# Ou usando o print(blablabla)\n",
        "print(mensagem, \"...veja que essa variável tem\", len(mensagem),\"caracteres\"  )"
      ],
      "metadata": {
        "colab": {
          "base_uri": "https://localhost:8080/"
        },
        "id": "3OqwklMqT_D7",
        "outputId": "ca379a3d-594f-49eb-885b-2afc9b633da6"
      },
      "execution_count": 38,
      "outputs": [
        {
          "output_type": "stream",
          "name": "stdout",
          "text": [
            "Olá, mundo! ...veja que essa variável tem 11 caracteres\n"
          ]
        }
      ]
    },
    {
      "cell_type": "markdown",
      "source": [
        "\n",
        "* **Inteiros e floats** - valores numéricos ($\\mathbb{Z}$ ou $\\mathbb{R}$) que podem facilmente ser declarados usando o sinal de igual (=).\n",
        "\n",
        "**Exemplo**:\n",
        "\n",
        "x = 3\n",
        "\n",
        "y = -4\n",
        "\n",
        "z = 5.0"
      ],
      "metadata": {
        "id": "C94DETefyPVm"
      }
    },
    {
      "cell_type": "code",
      "source": [
        "# atribua valores as variáveis abaixo\n",
        "x = 1\n",
        "y = 2\n",
        "z = 3\n"
      ],
      "metadata": {
        "id": "elU4F-UQ22a6"
      },
      "execution_count": 43,
      "outputs": []
    },
    {
      "cell_type": "code",
      "source": [
        "# visualize as variáveis\n",
        "print(\"x é\",x,\",y é\", y,\",z é\", z)"
      ],
      "metadata": {
        "id": "xtV6-Wu136Nj",
        "colab": {
          "base_uri": "https://localhost:8080/"
        },
        "outputId": "c81a2fc3-85a9-4d9d-876e-e00c20b5d531"
      },
      "execution_count": 50,
      "outputs": [
        {
          "output_type": "stream",
          "name": "stdout",
          "text": [
            "x é 1 ,y é 2 ,z é 3\n"
          ]
        }
      ]
    },
    {
      "cell_type": "markdown",
      "source": [
        "### Operações aritméticas\n",
        "\n",
        "Agora, vamos relembrar das aulas de Álgebra I e aprender a manipular variáveis numéricas com Python, **nossa calculadora com esteróides**.\n",
        "\n",
        "\n",
        "Sejam $a, b, c \\in \\mathbb{R}$ e $n \\in \\mathbb{Z}_+$, faça o que se pede."
      ],
      "metadata": {
        "id": "hWzQaV2m5SA0"
      }
    },
    {
      "cell_type": "markdown",
      "source": [
        "**1. Atribua valores para as variáveis $a, b, c, n$ de acordo com as restrições acima.**"
      ],
      "metadata": {
        "id": "2SEmhCKG_aT1"
      }
    },
    {
      "cell_type": "code",
      "source": [
        "a, b, c, n = 12.5 , 20.1, 30, 11"
      ],
      "metadata": {
        "id": "t0ZBVcx5_0wt"
      },
      "execution_count": 56,
      "outputs": []
    },
    {
      "cell_type": "markdown",
      "source": [
        "**2. Efetue as seguintes operações (em células separadas):**\n",
        "\n",
        "* soma (+): a + b\n",
        "\n",
        "* subtração(-): a - c\n",
        "\n",
        "* produto(x): a * b\n",
        "\n",
        "* divisão(/): a / c (se $c \\neq 0$)"
      ],
      "metadata": {
        "id": "3cM01ClWAGPi"
      }
    },
    {
      "cell_type": "code",
      "source": [
        "a + b"
      ],
      "metadata": {
        "id": "PrYfUNrFBigQ",
        "colab": {
          "base_uri": "https://localhost:8080/"
        },
        "outputId": "d3fcc7e6-1806-4e7b-d058-acc6e9ed7fea"
      },
      "execution_count": 6,
      "outputs": [
        {
          "output_type": "execute_result",
          "data": {
            "text/plain": [
              "32.6"
            ]
          },
          "metadata": {},
          "execution_count": 6
        }
      ]
    },
    {
      "cell_type": "code",
      "source": [
        "a - c"
      ],
      "metadata": {
        "id": "uEs8vY9TBiRr",
        "colab": {
          "base_uri": "https://localhost:8080/"
        },
        "outputId": "fd206515-e0ae-46e1-a27c-080546f3daf4"
      },
      "execution_count": 7,
      "outputs": [
        {
          "output_type": "execute_result",
          "data": {
            "text/plain": [
              "-17.5"
            ]
          },
          "metadata": {},
          "execution_count": 7
        }
      ]
    },
    {
      "cell_type": "code",
      "source": [
        "a * b"
      ],
      "metadata": {
        "id": "YKV7K8Q458sZ",
        "colab": {
          "base_uri": "https://localhost:8080/"
        },
        "outputId": "dfc88aa7-27dd-453c-ac18-475c64827fe1"
      },
      "execution_count": 51,
      "outputs": [
        {
          "output_type": "execute_result",
          "data": {
            "text/plain": [
              "251.25000000000003"
            ]
          },
          "metadata": {},
          "execution_count": 51
        }
      ]
    },
    {
      "cell_type": "code",
      "source": [
        "a / c"
      ],
      "metadata": {
        "id": "6beCJv3BBh5x",
        "colab": {
          "base_uri": "https://localhost:8080/"
        },
        "outputId": "4d5386a4-d97c-4e42-c986-bb3410c1e8e0"
      },
      "execution_count": 9,
      "outputs": [
        {
          "output_type": "execute_result",
          "data": {
            "text/plain": [
              "0.4166666666666667"
            ]
          },
          "metadata": {},
          "execution_count": 9
        }
      ]
    },
    {
      "cell_type": "markdown",
      "source": [
        "**3. Efetue as operações com expressões parentisadas (em células separadas):**\n",
        "\n",
        "* distributiva à direita: (a + b) * c\n",
        "\n",
        "* distributiva à esquerda: a * (b - c)\n",
        "\n",
        "* produto misto: (a + b) * (a - b) / (a + c) * (b - c)   $ \\  $  (onde $a \\neq -c$ e $b \\neq c$)"
      ],
      "metadata": {
        "id": "vpeRwjNPCFVq"
      }
    },
    {
      "cell_type": "code",
      "source": [
        "# repare que \"a + b * c\" é diferente que \"(a+b)*c\"\n",
        "# ou seja, a ordem dos fatores altera o resultado\n",
        "\n",
        "(a + b) * c"
      ],
      "metadata": {
        "id": "XyDLHWv5D6Is",
        "colab": {
          "base_uri": "https://localhost:8080/"
        },
        "outputId": "2f93c80a-f920-4475-8dd4-d95859d6b649"
      },
      "execution_count": 61,
      "outputs": [
        {
          "output_type": "execute_result",
          "data": {
            "text/plain": [
              "978.0"
            ]
          },
          "metadata": {},
          "execution_count": 61
        }
      ]
    },
    {
      "cell_type": "code",
      "source": [
        "a * (b-c)"
      ],
      "metadata": {
        "id": "JNKpsUY4D59O",
        "colab": {
          "base_uri": "https://localhost:8080/"
        },
        "outputId": "11ca5306-c3d7-4933-8797-767bbc682fa1"
      },
      "execution_count": 11,
      "outputs": [
        {
          "output_type": "execute_result",
          "data": {
            "text/plain": [
              "-123.74999999999999"
            ]
          },
          "metadata": {},
          "execution_count": 11
        }
      ]
    },
    {
      "cell_type": "code",
      "source": [
        "(a + b) * (a - b) / (a + c) * (b - c)"
      ],
      "metadata": {
        "id": "jmgYciqWD5xj",
        "colab": {
          "base_uri": "https://localhost:8080/"
        },
        "outputId": "6c02ab7c-7f64-4964-8935-643691c1aada"
      },
      "execution_count": 52,
      "outputs": [
        {
          "output_type": "execute_result",
          "data": {
            "text/plain": [
              "-350.5345185185186"
            ]
          },
          "metadata": {},
          "execution_count": 52
        }
      ]
    },
    {
      "cell_type": "markdown",
      "source": [
        "**4. Efetue as operações de potenciação:**\n",
        "\n",
        "* a**n\n",
        "* (b-c)**n"
      ],
      "metadata": {
        "id": "cCimZtmi6kJz"
      }
    },
    {
      "cell_type": "code",
      "source": [
        "a ** 100"
      ],
      "metadata": {
        "id": "bnbaFAwm6qJ1",
        "colab": {
          "base_uri": "https://localhost:8080/"
        },
        "outputId": "21a09366-0673-47ab-a752-8a521d6ee8d8"
      },
      "execution_count": 13,
      "outputs": [
        {
          "output_type": "execute_result",
          "data": {
            "text/plain": [
              "4.909093465297726e+109"
            ]
          },
          "metadata": {},
          "execution_count": 13
        }
      ]
    },
    {
      "cell_type": "code",
      "source": [
        "(b-c)**-n"
      ],
      "metadata": {
        "id": "Lxba2Px06-to",
        "colab": {
          "base_uri": "https://localhost:8080/"
        },
        "outputId": "dfc5eecc-619d-4c1e-b400-0ec45925a64a"
      },
      "execution_count": 14,
      "outputs": [
        {
          "output_type": "execute_result",
          "data": {
            "text/plain": [
              "-1.1168963185069519e-11"
            ]
          },
          "metadata": {},
          "execution_count": 14
        }
      ]
    },
    {
      "cell_type": "markdown",
      "source": [
        "## 3 - Funções Matemáticas"
      ],
      "metadata": {
        "id": "dZGDx3KbXb6z"
      }
    },
    {
      "cell_type": "markdown",
      "source": [
        "Nessa parte do curso vamos contar com o auxílio de 3 bibliotecas: **Sympy**, **Numpy** e **Matplotlib.pyplot**.\n",
        "\n",
        "Bibliotecas são **conjuntos de códigos criados para facilitar rotinas ou tarefas específicas**, por exemplo:\n",
        "\n",
        "* **Sympy** - para trabalhar com símbolos matemáticos ($x, f(x), f'(x), e, \\pi$, ...), derivar, integrar, simplificar expressões, resolver equações;\n",
        "\n",
        "* **Numpy** - para manipulação de vetores e matrizes, cálculos científicos, álgebra linear, simulações;\n",
        "\n",
        "* **Matplotlib** - visualização gráfica de funções, datasets, etc.\n",
        "\n",
        "\n",
        "Referências:\n",
        "\n",
        "* https://www.hashtagtreinamentos.com/biblioteca-no-python?gad_source=1&gclid=Cj0KCQjwr9m3BhDHARIsANut04ZRod79c2D7qT3zVWcPTryBYvCpeqp0e62ob0iPXEyJoN3loQ5AnjoaAkA_EALw_wcB\n",
        "\n",
        "* https://www.sympy.org/en/index.html\n",
        "* https://numpy.org/\n",
        "* https://matplotlib.org/3.5.3/index.html\n"
      ],
      "metadata": {
        "id": "mW6mK7X6_WzZ"
      }
    },
    {
      "cell_type": "markdown",
      "source": [
        "### 3.1 - Definições\n",
        "\n",
        "De forma bem resumida uma função é uma aplicação (relação) entre dois conjuntos $A$ e $B$ chamados de Domínio e Contradomínio, respectivamente, tal que $f$ associa cada elemento $x \\in A$ um único elemento $y \\in B$, onde $y = f(x)$.\n",
        "\n",
        "$f: A \\longmapsto B$\n"
      ],
      "metadata": {
        "id": "2w-cukR3aJD5"
      }
    },
    {
      "cell_type": "markdown",
      "source": [
        "\n",
        "\n",
        "![def_função.png](data:image/png;base64,iVBORw0KGgoAAAANSUhEUgAAAl8AAAFOCAYAAAC43Xi+AAAAAXNSR0IArs4c6QAAAARnQU1BAACxjwv8YQUAAAAJcEhZcwAADsQAAA7EAZUrDhsAAGjjSURBVHhe7d0FfBRX1wfgAwkQAkESJMHdAxSnuHtxd4eipS3SUuQFihZa3It7i7tDcadIgOAWHEKCBvbNuXtnMxFogN3Zmd3/8/3223NnQ1/YzM6euXJuDFMoAgAAAABNxJTPAAAAAKABJF8AAAAAGkLyBQAAAKAhJF8AAAAAGkLyBQAAAKAhJF8AAAAAGkLyBQAAAKAhJF8AAAAAGkLyBQAAAKAhJF8AAAAAGkLyBQAAAKAhJF8AAAAAGkLyBQAAAKAhJF8AAAAAGkLyBQAAAKAhJF8AAAAAGkLyBQAAAKChGKZQMja0V69ekb+/v2yFZpUxY1KOHDlkCwAAjOLNmzd08eJF2QovRowYlChRIvL29iYXFxd5FMBYHCb5mjp1KnXu3Fm2zM6ePYsEDADAYPhGOnPmzLIVNU9PT2rVqhX973//o3jx4smjAMbgMMOOS5YskVGYxYsXywgAABzJ48ePaezYsdSkSRN5BMA4HKLn686dO5Q6dWp6//69PGKWKVMmunTpkmwBAIARROz52rJlC8WNG1fEz58/pxUrVtDs2bNFm506dYpy584tWwD65xA9X0uXLrUkXnwXlCRJEhHzB/jo0aMiBgAAYypatCgVL15cPKpUqUKzZs2iXLlyyVeJ/Pz8ZARgDA6RfKmHHNu0aUO1atWSraiHIwEAwNhSpkwpI6KkSZPKCMAYDJ98Xb16lQ4fPixiLy8vKlWqFNWrV0+02bJly8hB1hQAAECoy5cv04EDB0ScLVs2KlmypIgBjMLwyZe6Z4t7vFxdXalcuXJiJQy7efMm7du3T8QAAGA8tWvXpsqVK4tHsWLFxJBjYGAgFShQgDZs2ICSE2A4hk++1Csa69atK545Afvmm29EzLDqEQDAuLZt20abN28Wj/3794u6juzFixe0e/duEQMYiaFXO54/f95Sx4uL7t2/f59ixYol2uvXr6fq1auLOFmyZGJFJO6OAAD0L+JqR76x5ptqxl9Zt27dooMHD1oWWnXt2pUmTJggYgAjMHTyNWDAABoyZIiIc+bMSZ06dRIx4wrJP/zwg2W+Fy9VrlChgogBAEC/IiZfXF4ifvz4smX2zz//UJkyZSgkJES0jx07Rvny5RMxgN4ZOvnKkiVLtOt4tW7dOlxdGAAA0KfoJF+sRIkSIgljY8aMoe+//17EAHpn2DlffJfzKQVUV65cKXrDAADAMSjTTNjTp09lBKB/hk2+1KsceThx69atkR481KjcLfEHc9OmTSIGAABj45vvQ4cOyRZR+vTpZQSgf4YcduS/ctq0aUUZCcarGRs1aiTiiBo2bChqfTH+Gax8BADQt4jDjr169bL0cvH1//bt27R69WoKCgoSx3hjba75iGKrYBSGTL54jJ/H+pmbm5tY5ejh4SHaEXHixQkY4w8o/6y7u7toAwCA/kRMvj6GV0HOmTOHmjZtKo8A6J8hhx3VQ44VK1b8YOLFqlWrZtmQNTg4mNauXStiAAAwpjhx4lC6dOmoefPmYugRiRcYjaFXOwIAAAAYjeEr3AMAAAAYCZIvAAAAAA0h+QIAAADQEJIvAAAAAA1hwr2OPXv2jE6dOkVnzpwRG4PfuHGD7t69S0+ePBHbbQQGBooH7+yfOHFisbk4Pzw9PS0xP3x8fCh79uzigUKEAAD6wNdyvr6fO3eOrl+/LtpcEJwf6vjevXvi55MnT265rquv+Rzz6k++xufKlUu0Qd+QfOnE8ePH6fTp0+KDqDy4kKC1cdmNbNmyUY4cOSwf1GLFilGSJEnkTwAAgLXt2rVLXNfPnz8vki1+VpIqa+Mkja/xynU+Z86cVLp0afkq6AGSLzt4//49nThxgnbv3i0ee/fuFXc59hIzZkwqXLgwffPNN1SjRg3xQQUAgM/H1/R169aJB29tx6MU9pQwYUKqVKmSuM5XrVoVvWN2huRLIzyEOG/ePNq4caOo0M/Dhv+FPxzcM8XJUKpUqShlypTimT9ECRIkEMVl+Zn3rwwICKAHDx7Qw4cPRRV/flZiPs7P3LMWnSSPhyaVRKxkyZLhNq8FAICo+fn5iULenHDt27eP3r17J1/5sPz584trO2+NxA8eheBnb29vMYWE2xwzvs7zdf3x48fhrvn8zI9bt26JUZT/4uLiIkY8lOt8lixZ5CugFSRfNrZ//36aPn262Obo5cuX8mhk+fLlo7x584pky9fXV3QXp0iRQr5qPbwfJn84uedNeeYP7Id4eXlRkyZNqE2bNuLvBwAAYfjGdu7cuWKLIx5O/BC+WeZr6FdffSUefM3PnTu3fNW6+Eabr+/KNf7kyZOWfTCjwt83fI3nHQOSJUsmj4ItIfmyAb4rmT17Ns2YMYMuXrwoj4bHY/IVKlSgypUriwcnOfby6NEjOnr0KB07doyWL18uPqhR4QsHf0B5r0x8QAHAWYWEhIgeLk64NmzYINoR8TW9WbNmVKRIEZFo2bt36cKFCyIZO3DgAC1YsCDKURDeJ5O35GvdurV45jbYBpIvK+Jd9QcNGiSGF6NSqlQpkWjxuDvf+egVJ4ycPC5cuPCDvWI1a9akjh07UpUqVeQRAADHxtfGadOmieSFe7wi4gVNfG3kHiSeV6VnPDQ6f/58WrNmDb169UoeDcMdBJw8dujQAcOStsDJF3wZPz8/U+iHzeTi4sKJbLhHunTpTCNHjjQ9evRI/rSxbN++3dSqVSuTh4dHpH8bPwoUKGDaunWr/GkAAMdz+/ZtU2gSYnJ1dY3yOlimTBlT6A2r6fnz5/JPGEdgYKBp5syZplKlSkX5b+N/c+iNtngPwHqQfH2B06dPm+rXr2+KGTNmpBO2QoUKptWrV8ufNL6XL1+aFi1aZKpSpUqkfys/ypcvbzpy5Ij8aQAA43v8+LGpT58+prhx40a65mXOnNk0bNgw082bN+VPG9/169dNQ4YMMWXMmDHSv5ffg759+4r3BL4ckq/P4O/vb6pevXqkkzNBggSmbt26mS5evCh/0jFdvXrV1Lhx40j//hgxYpgaNGhgunDhgvxJAADjefHihWnEiBGmxIkTR7rO+fr6mtatWyd/0nGtWbPGlCNHjkj/fn5PeDSH3yP4fEi+PsGrV69MgwcPNsWJEyfcyejm5mbq3bu36dmzZ/InncOJEyc+2FXN3dRPnjyRPwkAYAxz5swx+fj4RLqmpUmTRrzmbHg4NVWqVJHeD36PnPH9sBYkX9HEc5+i6orl+VDOPhbOc77y5csX6b1JkSKFacOGDfKnAAD0i6/jUU2r8PT0NI0ZM0b+lHPiaSejRo2KsieQ3zPMB/t0SL7+w8OHD6McYuMT7ty5c/KngC1evNiUIUOGSO9V69at0QsGALr1559/mhIlShTuuqXMcXK2EY2P4flePMrDoz3q94rfu7lz58qfguhA8vURCxYsEHc96pOMu1+3bNkifwKiwnMl1O8ZP7gXbOfOnfInAADs70O9XdWqVTPdunVL/hRExIsM+D2K+L6hFyz6kHxFgZcLN2vWLNKJ1bZtW1NQUJD8KfgYLr+RJ0+ecO8fT8jv0qUL3kMAsLuoeru4jXlM0cfvVcKECSO9h+gF+28oshoBV3nnCu6XL1+WR8zF5rioXvny5eURiK6hQ4fSL7/8Iltm6dKlE3tcZsuWTR4BANAGb/PGFdyXLl0qj5jx9Z23CbLFtm6O7M6dO9S0aVPatWuXPGLGx3hrPXd3d3kE1GLKZ6fHOeiYMWOoaNGi4RIvrlTMm6Ui8fo8/fv3pzNnzojNwRXXrl2jwoUL0+rVq+URAADbu3v3rrjGqxMv3nORk4StW7ci8foM/J7t3LlTVP6PHz++PEpih5TixYuL5AyiwD1fzi4gIMBUsWLFcF2nSZMmxUo9KwtNxMK9xzwMyQX9AABs7cCBA5FKSJQuXdp048YN+RPwpfi9LFasWLj3mOf77tu3T/4EKJw++Tpz5kykGiaNGjUy7HZAenf06FFT1qxZw73fTZs2NQUHB8ufAACwrhkzZphix45tuebEixfPNHHiRPkqWNv48eNN7u7ulveb33tewAZhnHrO1+7du8UmqM+ePZNHSHQ/t2/fXrbAFngT1/r164uNXRW80fjff/8t5oMBAFjDu3fvqFOnTjRz5kx5hChlypS0ZcsWypEjhzwCtnD69Gmxufjt27flEaLevXvTr7/+Si4uLvKI83La5Gv58uViPtfr169FmycF8pd/pUqVRBtsr1evXjRu3DjZIvLy8qIdO3ZQ7ty55REAgM8THBxMdevWpc2bN8sjJK4tnHjxIiqwvXv37lHFihVFIqaoXLkyrVixguLFiyePOCennHD/+++/ixWNSuLFH8QDBw4g8dLY2LFjRU+j4tGjR1SqVCk6ePCgPAIA8OmePn1KZcuWDZd4Va9eXVznkXhpJ6rv1k2bNokFbPw7cmZOlXxxJ993330nHkqHH3c9c3kJ9LbYBw/x8odRWY7MH0j+YG7fvl20AQA+xf3796lkyZJ0+PBheYSoe/futHbtWpQ9sAN+z/kar57OwzfYfKPNvytn5VTDjtzbtWzZMtkikY1z96d6eSzYB3dLc/c0d1OzOHHiiOXgPCcPACA6bt68KXq8/P395RHM49UTnmbC000UmTNnpm3btlGaNGnkEefhFMnX+/fvxYdv9uzZ8oi5x0U95AX2xxMzeYKmMj/A1dWV5syZI4r1AQB8DCdcnHhxAsYwj1efeKEVL7jihVeMEy9OwDgRcyYOn3xFlXh17dqVJkyYIFugJ0FBQVSsWDFLAhYjRgyaNGkSde7cWbQBACL6999/xXQFZRiLEy+eulCkSBHRBn3Zs2ePSIqVBCxZsmSiyK0zTf9x+OSrbdu26PEymMePH4vKyOfPn5dHzN3VPXv2lC0AALOzZ8+K+UO8YEfBZYR43hfoF/d2VahQQbbMq93596beDcWROXTyxRPreWWjgktLzJs3T7ZAzx48eCB6wC5duiTaMWPGFPtrNm7cWLQBAK5cuUIlSpQIt4XN+vXrxfQF0L8NGzZQtWrVZMu8VdHevXspQ4YM8ojjctjkq2/fvjRy5EjZMk+2X7JkiWyBEfA+bLwHpDKHg+eArVy5UiwZBwDnxj1dhQoVEgmYgq8PtWrVki0wAl5Y1ahRI9kikXjxSlXuCXNkDllqgnu71IkX3wUh8TIeHx8f0Q3NzywkJERM1Iy4ez4AOJfnz59TlSpVwiVefI1H4mU83DGiHpHi3yn/bvl37MgcrueLJ+1xBV2eaM94EiYfA+PioUceguShSObh4SEK9znL3AAACMOTtPnLWX0ThnISxjdjxgzq0KGDbBGVLl2aNm7cSG5ubvKIY3Goni9eIVevXj1L4sUTLrmwHhgbL0HmHrCECROKNt8RcU0w9V0vADi+qHq/eeU6Ei/j49+hugoB/475d82/c0fkMMnXrVu3xMS9wMBA0c6fP79DZ83OJnv27GLpuFIQlyfY8koZZ9+iAsCZfP/99+E25B89erQoHQSOgX+XgwcPli1zTbAff/xRthyLQww7vnz5UtRzUWpD8YoJrvvi6ekp2uA4Ii5Prl27tiikCACObfXq1eHmdKFskOPiwtqLFi2SLRLXeL7WOxLDJ188xNigQQP666+/5BESezXmy5dPtsDRDBkyhAYMGCBbqAEG4OiuXbtGX331laWnm6/vfJ23Ba6Ur/zv8I08PyLi15UtjOLFiyd65sG6uOAqd6KwRIkS0YkTJyhdunSi7QgMP+zIX8TqxGvmzJlIvBzcL7/8IhZSKPr06RNuE10AcBxv374VN9hKQsQjGracy8vfJwULFhSPNm3ayKPh8Wp65WcmT54sj4I18ZCjMs+Xf/e8KvLNmzei7QgM3fPFc4B44rUywb5Jkya0cOFCEYNje/bsmbgzunHjhmjzHRHfGfEdEgA4Du7V/uOPP2TL9tXrAwICKHXq1GKit4uLi9hzNnny5PJVs/Tp04veOIaRFtuJOM2kR48e4QqnG5lhe744E27WrJkl8cqTJw8SLyfCd0RcHTlu3LiizRfCTp06iRgAHAPP81InXr/++qvNtw3y9va2VMh/9+6dKAKqxmVulMSLbwCReNkOj3CoJ+DzucCFdB2BYZMv7g7mOxTG3dBr1qwRMTgPrvPFw8wKvkjOmTNHtgDAyDjBadWqlWyRWM3er18/2bIt9XAjb2umtnjxYhkRtW7dWkZgKzy/Vz3NhH83SvJrZIYcduRuR963UYFNVJ0bL0+eNGmSiLkn7ODBg061Oz6AI+Ktg44cOSLijBkz0smTJy2lZmyNhxx56FG5wb948aKoN8g9YSlTpqR79+5RrFixxJBk0qRJxc+A7UScZsJz7Yw+z9dwPV+8gz1PsFYMGzYMiZeTmzhxoqXrn8uOtGzZ0qEmZgI4mxEjRlgSL3d3dzH5WqvEi/E+si1atJCtsN6vnTt3isSLcU8cEi9t8DQTdX03Pjf4HDEyQyVfL168CLfioUyZMvTTTz+JGJwbDzvzkm/Gd8g8NwQAjOfUqVM0cOBA2TLP88mWLZtsaUc99KjMJ8aQo/34+vrStGnTZIvEOcLXeqMy1LCjetULDy+dP3+e0qZNK9oAXHCxY8eOIo4dOzYdOnSI8ubNK9oAoH+8gIp7sTkBY8WLF6e9e/eK2B74f3/fvn0i5uktNWvWFIu9kiVLJoYcuYcMtFWqVCnas2ePiPn6fvToUbEq1WgM0/PFy3l5eEkxdOhQJF4QDm/KqgxBc+8o35li+BHAOEaNGmVJvPgGO+Jkd621bdtWRkSNGze21Bpr3rw5Ei87mTt3rozMoxy8xZQRGaLniyc5Fi5c2FLRmLNdrukEEBGvguEaPArumh40aJBsAYBecdLFk+yVG6bffvuNevXqJWJ7CQ4OJh8fH7GZvxpXXs+VK5dsgdbGjBlj2fPRqKMchuj5mjFjRritJFDPCz6Ei63y3bNi+PDhhp4XAOAMOOFSL5ThL1J7J16M55HyPGM1XmmHxMu+fvjhB7HdFFNGObiTxkh0n3w9evSI+vfvL1vmnowcOXLIFkBkfEcU8YOpXNQBQH94gYwy3Mj0dIOtnnjP1LXHwH7mz58vI2MOP+p+2JFPdGWMN1OmTHTp0iURA3wMlyRR351yD1jfvn1lCwD0gms3ZcmShV6/fi3aepsqwIsAuNRBUFAQubm50Z07dyhx4sTyVbAn7pjhclMsTpw4dOHCBcPMBdd1z9euXbvCTa7DcCNEF1e///nnn2XLnHw9ePBAtgBAL3r37m1JvPgGW29zNGfPni0SL8aT7pF46QcvvOPit4zPIXUNUL3Tdc9X1qxZRWVhxhXtx44dK2KA6OI7aqW3lMtQTJ06VcQAYH9bt26lihUryhaJidM86d6etm/fTvPmzRPzR/nasWTJEuKvSa5ozxPt+XsJ9IPPmSJFisiWee9NdVu3OPnSoylTpnBSKB5p06Y1vXjxQr4CEH0HDx60nEcuLi6ms2fPylcAwJ5CQkJMOXLksHw+Q2+w5Sv21b9/f8vfSf0YM2aM/AnQm65du1p+T6GJlzi39E6Xw46vXr0KV+F43LhxouYLwKfiEiVck4fxahg9rKACAPMq9nPnzonY09OThgwZImJ7e/jwoYzMuAeMhx6///57eQT0hocfeV4e4719+dzSO10OO/KeTcru9QUKFLDs8QXwOa5cuSI25lWsXLmSatWqJVsAoDWum8WfSWUeJt9g8w4mevH48WORhHl4eIg6X6B/vNqR5w8y3nPT39+fEiRIINp6pLvk6/79+2ICXWBgoGhv27aNypUrJ2KAz9W1a1eaNGmSiHk1DK+K4dUxAKA9Xnk8cuRIEadKlYpu3rwpYoDPxSNmXGA7ICBAtHnyvZ4339bdsOOAAQMsiRfvq4XEC6yBlyTzMnF2/fp1cacNANrjocbff/9dtoj+97//yQjg8/H1Xb1Sls8xvtbrla56vnhrGF5qrFSq5eFGHnYEsAYuPcHFHBkvF798+TKWjQNoTF27kVcO+vn5iRjAGng4m6eaMN41Yc6cOSLWG131fHFXtJJ41alTB4kXWBXPB1AmZT558oSmTZsmYgDQBpduUNdrVApkAliL+pzic00pV6U3ukm+eGuJpUuXypZ5uwkAa+LES1nIwSZMmEAvX76ULQCwNd4sOyQkRMS+vr5Ut25dEQNYS6NGjShPnjwi5nNNr/VBdZN8cQVyBe/Fh0J2YAs9evQgb29vEfM2IeodFADAdu7evSuKlypQNBtsRZ1P8DnH13q90UXyxV3Rf/31l2xhAibYDk/KjFhDTrkTBwDb+eOPPyw9zbyYqnz58iIGsLYqVapYdkrgc278+PEi1hNdJF88Rqt8AXLPBC89BrCVTp06UYYMGUTM8wFWrFghYgCwjadPn4abY4nVxmBrXPdLMX36dDHPV0/snnxxV7R6AqZ6Tg6Arag3YOV5KDqsNQzgMHjZPydgjHu8sJgKbK1kyZJUqlQpEetxgZXdky8utKf0evFEueTJk4sYwJaaNWtmqX589OhRWr16tYgBwLp42IeHHBXdu3eXEYBtqc81vS2wsmvyxXdC3B2o4CFHAC24u7tTx44dZSt8FzUAWM/MmTMtvV48paRGjRoiBrA1LlmVOnVqEfOkez4X9cKuyRd3RSuZaN68ealIkSIiBtBCt27dZES0f/9+OnnypGwBgDXwcP7UqVNli7A5NWhOfZ3noUe9TDGxW/IVHBwcbgUCPpSgNb4j4jsjhfpLAgC+3ObNm8V2Qox7m9u2bStiAK2oRzjOnj1Lu3fvli37slvytXz5csvqA09PTzEHB0Br6jkB8+fPp0ePHskWAHwp9Q0N12/08PCQLdAr/l4+c+aMePAWbEbHc3s7dOggW/q5ybZb8qXebwkTMMFeeDVMjhw5RPzixQuRgAHAl7t58yatX79etoh69eolI9AzrrnJuw/wo2HDhvKosannk/O/Tw832XZJvnin8T179siWue4SgL2oh7x5QibKTgB8uVmzZllWsleuXNlSWw9Aa3yDXa5cORHzOTljxgwR25Ndkq8pU6ZYvuB4uBHlJcCe2rRpI4a+mZ7mBAAYFX/BzZ49W7YwugH2pz4H1TmIvWiefL19+1bcESkw0R70QD0pExPvAb7MunXrxLAj4x4v3u4FjC8oKEjUReSHv7+/OMZlRJYtWyaumzzM/ObNG3GcvX//nnbs2CFWGfKUDuWcsIdvvvnGUnbixo0bYjGIXYVmf5pauXIlp5viUbRoUXkUwL5CP4yW89LV1dX08OFD+QoAfKpKlSpZPk8TJkyQR8EIZsyYYfnd5c+fXx4127t3r+W1atWqmUITGFOCBAksx/iRLl06U2hiZrp+/brJ19c33Gt8bZ00aZL8r2nvt99+s/xd+By1J817vtQT7Xm4B0AP+I6oatWqIuYhE/V5CgDRxz0i6l6Fli1byggcyfnz56lBgwYUGBgoj5hdu3aN2rVrJybr//vvv/KoGV9befI79zzZQ6tWrWRkLoPChVftRdPk6+HDh7RhwwbZIqpbt66MAOxPvbIHqx4BPo96o/rq1aujvISDunLlCiVKlIiWLl0qhiHVc6p27dpFR44coUGDBtGhQ4doyZIlFD9+fPEaJ2CbNm0SsdZ4bm+lSpVki2jevHky0p6mydeCBQvEnC/GcwASJ04sYgA9qF27toyITp06RX5+frIFANHFX7QKRylVAFHj3zX3fuXPn59+++03cnNzk68QtW/fngYOHEiFChUS50G9evXkK0S3bt2Skfb476tYtWqVjLSnafKl/lCq3wAAPeA7dJ6UqbDnBxPAiPiGhW9cFDVr1pQROBru9VJvCejq6kpeXl6yZe71VFNXNVBPytda/fr1ZUR0+PBhunTpkmxpS7Pk6969e+IfqsCQI+iR+k5dfbMAAP9NfcNSq1YtDDk6MG9vbxlF7b9etxc+J6tVqyZik8kkiq7ag2bJ1+LFiy11NXhXe3woQY/43FRg6BHg02DI0Xm4uLjIKGr/9bo9qc9Ne41waJZ84UMJRsA3BerNtjH0CBA96iHHuHHjYsgRdIt7ZRX2GnrUJPnipcfqIUf1vBoAvcHQI8CnU9+o8LAOJ2AAesQ32crNgb2GHjVJvnjpsTLkyCvKMOQIesZDj8oXB4YeAaIHoxtgJPa+ydYk+VLfEWGVI+gdJ17quV8YegT4OPWQI9dzUiY0w4eZ6F3o/72ix8/v0o2Ai+R/6wxdvH6Srgf40RsKpLcURCGml/Tunbk8E1gXX+OV0hj2uMm2efLFezlxkTWGeQBgFOq7ouXLl8sIAKKyevVqGYXvOQazYLpL6w/OooYdylPOgmmox+8VaC/1pn30M3UaWJ3S+mSlzKl9KWu6r6h4yaJ0kAbTARpIC850JFfX2JTEx4Nqty1Kl2k1PaATFPzugfwvw+eKeJOwdu1aGWnD5smXeiyVK8viQwlGwFsNKefqiRMn7LYdBoARbNy4UUbhixU7s91H19MfS74PTaIG0DEaQyfurqZlM7bTuaM36dLpu/KniBIldZeRmZt7LBkR3b1m3rrnUUAQvY0RRLdpD52nBTRodlNKkzkJ9fpfC7oWcF78jLXw1kA8TYgfXLlerXjx4pbXzpw5I4+G4eKpyut58+aVR81GjBhheY1jPVAXfuVNwbVk8+SLtxlQYGd7MAruji5btqyI+WLBO/MDQGSvX7+mgwcPyhZRxYoVZeR83tMbOnVvHWXIkZxKF6xOA7tOprcULF7LXSKVeGY3/B7LiKhA+TTUamBRy6N217Ck5V3Ie4qfMI6Is+RLJp7ZoQ1X6ab/Ixo3cD5N2/QdnaJJ9JBOy1chutQ5CZ/DfC5rJUboF4t5JrwN8D+Eq9o+e/ZMtG/fvk0pUqQQMYDeTZ48mbp06SJi3hwYm20DRMb79ClfYiVLlqTdu3eL2JkEPLpBgR4n6GHsIxRCL6ldvgV06cR98dq4HfUpX5nUIl47/TSlzJyYsuZPRvESmJOq6Lh/6zm5ubtSAk9zb3y91NPpwa0giu3mSqsfdCL3+LHF8d6V1ogyCr07/0oxKawHDT6Me/P27dsnYu7BrVy5sohtzaY9XwcOHLAkXrlz50biBYaiLomyc+dO0QMGAOGpN0nm4Xpn8uLVczH0lzF9Zho9erRIvFidbnlFYlSxWXby8g4bVqzRIbdIxD4l8WLJUnlYEi+24mYH+mVRVWo1sIgl8dq/7god2uJP/b4dQ1nzpKYbbzihwDXrv6h7v7Tc8NumyZd6yNHZPpRgfKlSpaKsWbOKmOd8Kau5ACCMsyZf9+k4jVjWQgz9vXj+hpaMPkpBz8zDVuUaZaWVAR3p5/lVKG32sP0Oral842zUtG8h2SLaMv+cjIgqtshK12L/TUdpNN17Zd05YY5GnXypcxZb0yz5cuZ5AGBc6vNWyw8mgBFcu3aNLly4IOJkyZKRr6+viB1Z0Mun5EeLQh8LqXyLDJQpb1JxPG0OTwqWyVecuLEsc7W0Mmhp9dBHNfItloIafl9AHHtB96h6jcr03aDmKFnxAfny5SNPT08Rnz59WrPFVTZLvni4UT0Js0yZMjICMA71eatllzSAEahvSMqVKycjx7Xz0CrK7puR/pwVNv+zx4Sy9P3U8jR5f2NKniaBPGofZRpkpYn/NJItou1L/Ojothv0++AFVKyyLwWHoERFVOyxuMpmyRfPkVFWDpQuXVo8AxhNqVKlZGT+otFyNQyA3qlvSBz9Bnv9kWlUsURdunX5MY3vvpPu33wujucunpK+6ZhbxHqzY4m5V5KVbJiGTrn+QY8Jw5ARqc9drUY4bJZ8qXu9ChYsKCMAY+HuaGXeFydeXPMLAMyc4TrP5SPO0mzyKHiRilbLII65J4hDD26Zky89G7aqJnX5rRSVrJOJqrfzFQsCztBMmr56AJlM7+VPQZEiRWTkYMlX0aJFZQRgPOrzV31eAzizgIAAun79uoi5Ll7EopqO4Prdi7Tm0kB6FJp+sZ/mV6YGvfLTfL9WlLOoMVbv8993yF9hK7fXzviXOtYaQuVrF6CgF0/lUefG876Uotp8TvO5bWs2Sb7ev39Phw8fli1z7RcAo0LyBRCZo99gHzu3R/TmtSk+XtTZYlzWgXuStJ5Mby1X/n1AYzpsFfGO1Seo95hmYg9JICpUKGzlqBbXeZskX7xi4OVLc72TdOnSkZeXbZbaAmhB3SWN5AvAzJGTrwdvLlDT5g3pwe1AenL/BfWuslK+YmwZfJNa5qeVqJWJGg3ISidoPL2iR+KYM9P6Om+T5MvR74jAuXCBYK27pAH0zlGv88/pBvnFnk3D19eklBkTiWMtB4R9MRsdr8wcuaE2DV1pHorkxOvvswPoRsAl0XZWWo9wIPkCiIavv/5aRtp8MAH0LOLUEke5zv97+SDtezyeTBRCXt7x6Pdd9WnWyeZUpn4W+ROOoUiV9DIK/Tfvu03tisygshVK0pPnzntjWaxYMRmROLf5HLclJF8A0YChR4Aw6qklmTNndoipJdfuXKCyJStSx69nW8pI8LY+mfKYi6g6Iq7I36fqSnoZ9JYunwmgmk3KU8j7N/JV55IkSRJKn96clPK5zee4LVk9+Xr48CFdumTuvuQVMAUKmCvtAhiZ1l3SAHrmaDfYr94EUZUa5enhned048IT6h2akDgDXjjQ989KIk6aMj61G1mA/GMuE21npOV13urJ19GjRy3ddajvBY6icOHCMtKmSxpAzxwt+boeey3V6ZlLxHHiutLP8yuL2BmUrJOZekwoQ9OONqV0ObzoPp2g27RHvupcDJ18OdqHEoBxlzQPrzAtuqQB9MyRrvN3aT/do6NUqXkOmna4CfWeVZEy500mX3UOdbp+Jea4scf3gql2pZa0Yc8S0XYmWk4vsXry5efnJyOir776SkYAxqcuInny5EkZATiXoKAg8vf3ly2iPHnyyMh4Nv2zjCbNHypbRNkKelP5xtlky/lcOnGf2uaZT0e2XKNm9dvR7ftX5SvOQT1Nis/xd+/eyZb12TT5UrZlAXAE2bKFXZTV5zmAM1F/Kak/E0bz+s1L6t6lJw1rsZEGNVxHL4Kcc6K5mne6BPT+vUnET+4H09Tlg0TsTDJmzCie+RxX5q/bglWTL/7LXr58WbbQ8wWOBckXQPhz38jJ18gZvejS6bsiPrTxGgU9wab5Hond6Of5VShuvFg0YHFVqtAlCT0g59rPVqvrvFWTr5s3b4ouaZYmTRrxDOAo1B/Ka9euyQjAuThC8hVI16h0l3hiqyDWb04lSpbaQ8TOrlCldLT8Znsq18j8u71Ef1HQm4cidgaGTL7Uf1EMOYKj4c1XFVevXrXpfAAAvTL6dd5E78iPFomIN51e87CzWPEHYbgHjPFQ7Khv11HNBhVF2xmoz2lDJl9G7o4G+JBUqVKJ58DAQNHTC+BsjH6d/3FYa9q+Jqw6f0Iv89ZhEFmrnHNp9ZRTYhPu+avGy6OOzfA9X0i+wBFp9cEE0KOI83pz5TLXxjKK/Se30O8DF9BPNVdT/9pr5FH4kJJ1w3oE12xfSG/emyv/OzIkXwA6hOQLnJl6Xm/y5Mkpfvz4IjYCk+kdde/5bWgCaV7N9+I5Vjf+lzaDv6bshbxpzOY61G1Ccboac518xXElTZqUEiRIIOJnz55RQIBt9rvEnC+AT6DVfAAAPTLyNf5hjNM0dG0Vqv9dPort5kq9ppaTr8CHuHvEpqmHmlDBiulE+x4do2cht0TsyHLmzCkj213nrZZ8PX36lO7duydbRClTppQRgONAz5c+nD17ltavXy8e586dk0fB1tTnvJFGN0wUQldovUgmuo4tTX/dbk+pMiWWr0J0zR92kBo2rSVbjkuL67zVki/1PABspg2OSv2htGUBPojaP//8I3pceK5R9erVxYPvUmvUqCF/AmxJfZ03UvI1/a+hdP7fi7JFlMATk+w/xcvgt9Qg7Qya2X8fbV52jLbsd+zNt9XnNt/o2YLVki/1yq906cxdlACORlntyO7cuUOvXr2SLbC1u3fvUtWqVenixbAvUYWvr6+MwJYePHggI+Nc54NfBtIvPcZR69zzaWD9tfT0wQv5CkQXF13lrZcUE6aMlZFjSps2rYzCn/PWZLXkSz0pjSdiAjiqFClSyMg83A7aWLZsGT1/bl5tlSxZMlq5cqXY/Hb06NHUtGlTcRxsy4jX+Ylzh9CD24EiPr33NiVK6i5i+DTthhWjTHmT0k/zKtOP84vRCwqbZuRovL3DEk3dT7hH8gXOQn1+2+qDCZE9fBhWZZuTrVq1alHhwoXphx9+CDdBFmzHeNd5E6Uq+kZUbWdN+hYSz/Dp0mT1pFknmlOl5jlE+ybtEM+OSItrvE2SL3XWCOBokHxp6+3bt6KH6/XrsL33eIcBPqY8XrzAUJIWjHadf0IXKHUeVxq9qQ5N2NuQKrc0Jw7w5XYcWEePghxz5aNhky9j3BEBfB4tuqQhzKNHj6ho0aJieFGxatUqcUx5RDUPDKyL5zdy3SNFvHjxZKRfV9+E9c7kLp7Ssm0OfL5/992mzkUW0bdfL6KRE/vLo44lceKwlbB8zttibi+SL4BPhJ4vcEbqcz1Dhgwy0q/j5/dSqeS9aOJ3u+jWpSfyKHypwEev6Nwh87kwb/JKehvimMVqU6dOLSPbXOcx7AjwidDzpS0vLy86cOAADRo0SB4hKlasmDimPLJkySJfAVsx2jV+wrRRFPT0NS3//Tj9OeiAPApfqtg3GSlFhoSUOktiavhjfnpIp+QrjsXW13mbJF/qZZoAjgY9X9qKFSsWFSlShDJmzCiPECVKlEgcUx7u7ljBZmvqc13voxtvQl7Qof3HZIuoTrevZATWwPPnFlxoTXVD39cA1/3yqGNRn+O2WNVuleSLJ8Iqk2GVPZEAHJWtP5QAemSk5OuR60maerixSBJqd8lLOYv4yFfAGpKkCNvT8zndoCfvrsiW47D1TbZVki/1SiMMOYKjw7AjOCP1ua736/xDOiOeeZJ9z4llRQzW9frlW9qy4Dz1rvo3DR7yizzqOAwx7KheAq73OyKAL2XrOyIAPVKf63q+zge9fEob1m2SLbCVA+uv0rDmG+nQxmu0aslWedRxGKLn6+XLlzIyz8UAcGQ8AVyh3kwewJEpuwswPV/nZy8dR31rrKRqiSfR4lFH5FGwtsJV0suI6PqFB3TuqmO91+pz3BZbDFkl+QoJCZERkZsb6qiAczGZTDICcFzBwcEy0vd1ftmSv8Qzr3QMeftexGB9vN9j+1+LU9dxpWnFrfYUL/1j+YpjUJ/j6nPfWpB8AXyG+PHDJpwi+QJnoC40qdfr/HtTCGUsmIDS5zT3Tpdvkk08g20061eI6vfMR0lTeljm2TkK9Tmu2yKr7969k1FoNhw3rowAHJf6g4nkC5yB+gtIr9f5ZzH8qe2QojTnTEtafrM9+aRPKF8BW7v7+DI9fXlXtozPcMkXer7AGai/fJB8gTMwQs+XuvclWSoPGYEtbZ5/jtrmnU81vKbQvKVT5VHjU1/jdZt8YdhRO+fPn6ejR4+KR8QVGG/evLG8duzYMXr/HvMdbAU9X9pr1qyZeK/5sW7dOnkUtGKE5Ktv51G0avJJuu7nWPOP9CzkzTvyP2WekL5p02bx7AjU5zh6voDWrFlDBQsWFI+aNWvKo2YTJkywvDZgwACKGdMqv16IApIvcDZ6T75O+O2jv6ceoXFddlDHggvlUbC1fGXTiGfvtAnIzestmSisM8bIbH2Oo+fLYHr27Enp0qUT8eHDh2nVqlUiDgwMpOHDh4uYk64RI0aIOLpOnDhBFy9epMePcccYHUi+wNnoPfnae3CLjMzFVUEbPK9u4aXWtPRaO+o5qTS9JMf4DlGf4+j5AooTJ44lyWL9+/cXw4tjxoyhR48eiWMtW7YkX19fEUdXlSpVKGvWrKKGlaurKyVNmpSyZ89OxYsXp1q1alHbtm2pT58+NGrUKJo9ezatXr2a9u3bR35+fvTw4UOnG+JE8gXORu/JV/mm2WnMlrrUtG9Bqtg8uzwKWkiVKbGMeLuh6zIyNlsnXzFCvzi++Jtj165dVKZMGRFPmTKFOnXqJGKwnaJFi9LBgwdFPHToUNHTFRQUJCYJcg9WqlSpxGvRxSeaeqeCTxUjRgxKnDixSN6SJEkS7WcXFxf5XzCWihUr0tat5qrOvL0WVvmCo+Oik8+ePRMxP+ttH99j9BsF0x3ZAnu4evYhxbifmlqUGSqPGBd3KnAnBONq99aucm+V5Gvbtm1UoUIFEf/555/UqlUrEYPtHDhwgL7++mvZCtO3b99wPWPRwZtDc+JkDwkTJoxWkqY88yNWrFjyT9sPz7fj+XeMC/C5u7uLGMBRqW/Q9Nbb+9YURAdiDAqN0AttDzcuPKZOhRZRcOAbSps1KV3zuy9fMS6+riv1HPl7ir8nrckqydfmzZupcuXKIl60aBE1btxYxGBb/J7ze6/gpOT+/fufvPXHzZs3qXbt2iLT56FL7kHTMw8Pj2gla56eniJOnTq1/JPW06BBA1q+fLmI+f2KFy+eiAEcFfduK/SWfK3ftZBaNe1E6XN5Uam6malGh9zyFdDCqxdvqVK8CSKOGTMGPQ18RB7x7HNDb03KOc/Tfaw99Gj1nq+5c+dSixYtRAy2w4lSpkyZLMMAimXLllH9+vVl6/NwyQolEVOe1XFUzxH/HnrDPVP/laxFfP5YQlWvXj366y/zNibo+QJnoOfka+TUH6lv5zEirtM1L/WYUFbEoJ0uxZaIJCxtNk+aOGYuZUtZWL5iXLY8562efE2dOpU6duwoYrCd7t27i9ISjOd/8TAky5IlC509e1ZMmtcSL7rgJCxiYvahZI2fnzx5ouvJ6ny386HkjBMvrrnG9uzZQylTphTH9TYPBsBa1MOOepvz1bhTRVoyzTwH88cZFah6u09bcATWlZnqkg9FnhZjJHyOK6NIhuj5+v3336lHjx4iBtvw9/enHDly0Nu3b8UX/tWrV6ls2bJ05Ih5V3mjJMC8QvJDCVpUx/iZEzb16lq94aFfTtA+lLRF9cwfcPUdFoAeqSfc37t3j5IlSyZiPThBf9CpM8fp0on7oswEthWyLx8qGpqA1ZMtY+IJ9j4+PiLW7Zwv9WpHnuzNk77BdtRDXlz64ccffww3745PGE7QHHEojE9X/hD8V5KmfuYHJ6p6xSs+lflp0UnW+JkXSKCILmhJnXxdu3aN0qZNK2L7M9E/1I/ek34/487i7tVndOXfh/Qu0IP6N5svjxoTd2pkyJBBxLpNvvbu3UslS5YUMVdWHzx4sIjB+tSrHHn565UrVyxJFv8O+HfBfv31V+rXr5+IwdyFHDEh+6+k7UtKb9gaJ16fWtqDH0Yt7QH2p06+eMg9W7ZsIra3V/SYDtMw2QJ7uXvtGTVKP0vE3mkThratm6xo7dy5c5QzZ04R67bUhDr56t27N40cOVLEYH3FihWj/fv3i3js2LH03XffiZjx3KNSpUqJmDN1Tsy4RwU+D0+k/1By9scff1juhPLmzSt2BuDjXPNLr3hok79AP5SYRZW08UPr+YOgT97e3mK4kfGOGHze6wGvdOzYriulyZaYCldJT7W76OPv5YxKxRgrnl1cY4o5Uq4u9i8L9Ll4f+QCBQqImHt5ubfXmqySfHEywEkB69atG40fP17EAI4qTZo0okQH44sMT8hk3Fv24MGDDyZtUT0/f/5c/Fm94onVUSVmUT3zgwsTxo4dW/5pcBTp06e3fAHxNZ8X+ujB+DkDqUfr/4m4bMOsNHBJNRGD9ka330KusV0oRYaE9GuXpZTQzVu+Yjz//PMPlShRQsS8pR8PQ1qTVZIvdYbYrl07mjFjhogBHBUnGJw8MS7N8SWFX3k+WsSELaokTf2sDP/oFRcn/FiSFtUzdgnQNx5mvHDhgoi3b98uFvnoQb9R7WhEH/NwV7OfClH7YcVFDPaVl7pTAtLLvMBPxzuY8E4mjLfe4630rMkqydeZM2csewk2bdqUFixYIGIAR8XJBQ9LMk6e7FHaIzpJmvqZV4rqeQ9OLmWgJGP/lagpz1xwF7RRpEgROnTokIjXrVtH1arpo4fpEi2nu3SQbl58Qm7xXClpSpwTepCdmlFS+kq2jId3MOGdTFjhwoUt2/lZi1WSL558yaUPWN26dWnFihUiBnBU6tIQISEhhpjIzokXJ2DRTdb4meey6bm0Bw9vfixBi+oYz3uDT6feUYOv8Xyt14OzNJsehf5/sL/bl5/S8R036dalJ1S7cgtqULabfMV4li5dSo0aNRJxpUqVaNOmTSK2FqskX5cuXRLFPVnVqlVp/fr1IgZwVOrki5MaR63TxZeHiCtFP/SsjnkoVq+4l/JDidmHnnllqbPXYuMvIv5CYvPnz6dmzZqJ2N7WXxtIr2MHULyEcShuPONO8HYEf004QeO77xTxoPHf0sBuk0RsRHPmzKHWrVuLuGHDhrRkyRIRW4tVkq8bN25Yar5wva8dO3aIGMARcTKi9J7YovKxI+BFBP+VrEV81vP7yD2bnIBFN1njZ15p7Ei12Fq1aiW2j2PTp0+n9u3bi9je0mVLRtcvPBDxsuvtKHka7DJhL9sW+9GQJhtE3HVAfZoweJmIjWjKlCn07bffipiLlnPxcmuySvKlrgTLK2CUUggAjkh9vtui/ouz4jIdH0vOojqm503guafsU2ux8bNeh7A7depE06ZNEzGvaOeV7Xrg5R2fHt8zz7/c8KwLxUtgXnkM2uN5dwfWX6GEXnGpaIEyVD1Hb/mK8XApp++//17Effr0oREjRojYWqySfPE8EqWelC1WBQDoibr4Hs53+7t165YlOYsqQYuYvAUGBso/qU9co4+TMC5boiRl6gQtqjbHtt5rcdCgQZYC2hwPHDhQxPaWJqsnBT19TU/uv6Ddpl7yKNibF+UM/b82smU8/fv3p2HDzMV7hwwZItrWZJXkiy8SvFKJxYsXT9d3owBfSr0EmYva8vZaYBy8QIKTsA8laRGf+cEFda1wqbQp9b6i6qQsqlhpf8o2VTzs0rlzZxHzkCMPPerBHjL3Tmgp6NlrehH4hpKl/vSVlVfPPqSAa+YbAN6DMl0OLxGrcU9eyNv35O4Rm+In/LSevDevQ+jpg5ci9vKJRy4u9hn6TkxZyZc6yJbx8HwvnvfFeAiSe36tySrJF9PzjvcA1mTriZigP7zik1d+fig5iypx0/sm8Ew9NKpOyqKKT506RT179hR/Tk8Lq7ROvq6ff0SdiyymV8Fvqf2vxalx74LylY87/c9tGtV2ixiaU/u6egYavraWbIX+3N5b1KP0cnr/3kQ/TK9ANdqbyzhFF2/z0zTzn/Qu5D21HlSUWg3UrhguJ6VzBh+gZw9fUuYsmWhi/zXyFePhG2y+0WYrV66kWrXCfkfWYLXkS731BA/LZM+eXcQAjmbo0KH0yy+/iLhHjx70+++/ixhAjS+t0SntETHmnjm9494y3uUhYoIWsa2OeVTEFrROvgY1XEc7l12ULaJKLXJQn9kVP9rD9OhuEDXLOodePI+8Crhpv0LUITSJYy+C3lCb3PPFBtXeaRPQwkutyTXWp88BHNZiI22Zfz70z8ak6UebUsbcSeUrtvXwThDVTWnuES1RLSftWXdGxEbE5bO4jBbjPZW5zp01WS354n2++M6IbdmyhSpUqCBiAEfDQy/Kypfhw4dT3759RQxgDTzEyUkYr6T9UIIWVaz3uWz874kqKYvYVse8qvhjJT5MpvehiaA5OfFOl4CWXm0nYlvqUmwJndl/R7bMCpRPQ0NWfkPu8aPeVmvFH8dpQk/z9ITEydzp+2nlxZDg6b23qXCVdJQ+ZxLx2vxhh2hm/30i7vZ7aarXI5+IP9V1v8fUMsec0PeHKFtBb5p2uIl8xbZ43l2t5OZrY+HyWejgVvOOCEbEcy+VzxRvLcRbDFmT1ZIvdQG+P//8UyxLBnBE33zzDa1du1bEONdBL7jH7EOJ2Ydive96wCs/eTHXhxI0fk0peZE0VXyacawZJfBys+k8J56z1bX4UjHJXy19riQ0elPtKCvsz/plH80bat4doP53+ajr2NIiVnsZ/JYapp1Bzx69EhtT/3W7g0jUPlfXEkvp339ui3jMlrpUsILtt/p59eItLR51VMRp0qaiwa2NWWqCV16re2pfvnxpmdduLVZLvvgDMHPmTBHzsMzPP/8sYgBHkz9/fjp+/LiIN27cKG48AIyIE6+Ic9k+FvOUEr3jjjIuuJowSVxKGJqIJfAKfQ6NOSnjEgjiWbTNryuvxY4T/S3C7lx5St9X+Cv0Ofweq57J3UWiowzzhbx9RxeO3ac9f1+iJaPNSUmJWpmocZ+weWIZcychN/dYtHXheRrabKM4lr9cGhq7rZ6IeR4VV4xnMWPGoCz5kotYwXO8eI4V4940JflbNvYYTfp+t4grNstOP8+vImKtxKdUlI++ky1j4T1MeS9Txj1g3BttbVZLvtTLkHlYZvLkySIGcDTq+Y22mAsAoFeZM2cmf39/EfNCk/Tp00eZpEUV670YsZu7a7ikLGLSljCJ+ZjSjukSgwY1WEfnDoWv88f/nSF/f0OFKqWjRwHBVMfHXBvtQ2aeaEaZ8yaj4a020aa55uRWvUE4zxNrkmm2GNJjI9fXpiJV04uYe8uaZJxFj++ZX5t6qDFlL2SuQeh3JIA6Flok4viJ4tC6x99+dAjX2nhTbd5c24i4UHy5cuVEzLv3KBvKW5PVki/1CjAellm9erWIARyN+gLGwzbYKxCcRenSpWn3bnNvyuLFiy1730UHb0QfVVLGPW8PHjyIdJwfRihbFNvNhd68irCqNfQS8d2kclSidqZoJ18N082kgOvmOUZD/q5BJWtnFjFbPfUUje28XcSZ8ialmcebieuQeo5Y6fpZaPCy6iJmPARYKd4E2SIxeT9VpsSyZRvBga9p2VjzqED27Dmod0PzaJjR8PZZLVq0ELGtyglZLfnivxxvLcR4WOboUXMXK4AjUW+lZavuaAC9Um8xNGbMGEsFcFt5+/ZtlAmbOr70aC89ffiSAh/x4xU9f/JKTDTXg0HLqlGy1AnoyOZr9OegA+KYb7EU1HlMKREzZdixbKzfRXkIpu7BYu/evae2eebT1bOPRHvgkmpUoEIaapxhthiW5FWNc8+1jJRc1Q5N/B4HmKv//7q6JhX7JqOIbeWW/xNR5oJ90+JrWj3XnBgaDVez79evn4hbtmxpqfdlTVablaheCXD7tnmSH4CjUZ/b1l79AqB3Wl/nuXAsb+WVK1cu0QNRt25d6tChg/hi/O2338SX4tGt1+ncwbt0/2YQrX30Le0I+Y5WP+hM8/1a0cR/Goqkg0tBdBpVgpr0KUjV2+US865yl0gpCpzypHae4G4Le//2p5xFfChFxrDecR4C5GPKgxMvTqCUxIu5R9giiRcQdB5TUraIZg/YT7N+2S/+HPumU+4oe7XiJwxbfRn42PbDvi+D3sqIV7dGvfLTCLS4zlvtjEuVKhW5uponLGKvO3BUSL7AmenxJju2m/l7580rc300npSeKElcse2Qb7GUorenautc1PjHgtRxRAn6cUZFGrryG5qwpyHNPduSVt3rRDve9qT1T7vQ4sttRK/TyA21xQT1ruNKU4v+halm5zxiWC9f2dSUKU9SSpoyvuV/92OqtMklo4+LuHLS3SOWjMIUrpxezCNjXKh11WRzaad4CWJTy1+inncaO27Y35GLwtpaigwJadiqb6j3zApUub5x58IaKvnixIsnIitu3rwpIwDHgeQLnJlek6+48WNR+pxeYs7R5+JtfFJkSCSG+4pUSS9WCNbvmY/aDilGvSaXE/Opxm2vT7NONqcVtzrQ8LU1P7i9UBx3V+ozq2K0yzvw31/t9cuoC+22GhS5Wn2NjrkpUdKoS1K8fR02F423KrI13tS8eM1MVK2tLxWv8JU8ajyGSr5Yxoxh48mXLl2SEYDjUJ/XSL7A2ajPeaX6t72tuPADbXrejeacaSm+/G2Nh/pGtNksSk3cv/lcHg1TrlFWWnatHVWNZq8X80jsJnrsFMHPIlfCZ/vXXpZRmMObromtiKKiHgbklZtaciHjDjueORNWmV8pOWFtVk2+1H9Jpdo9gCNRn9dIvsDZpE6dmuLHjy9iXqWohykmngm12TqH3b/1nFrmmEsb/zwrj4Th7YC4xteAxdU+2BP1IZx4qZMjpayE2oPbz2n5OPNKQi6FkTqLeY7XlX8f0tYFkRPhkJD39OhO2GrRRMlsn3xtX+JH/WuvoVHtttDZQ7fkUWPhUTsussq40GqyZMlEbG02S75Onz4tIwDHoRRXZba6IwLQK644rx7h0MN13o08xfONC4/p8T3zyj5bGd9tp9i/UM3FJQY17VuQ5l9o9UVV5HN9nUJGRP4n7ssozKz++y3DkY1+LEhdxoatmOQJ+G9ehx+qvH2JN3Y394jxkCPPVbO1i8fu095V/rR+1pkoewWNQH1O80IP3sfUFtDzBRBN165dC3dHxMX3AJyN3q7zf47cRqVijKXm2ebQruVhG17bQtLU5l4/BSdMc862pA7DS3xShfyocOkIhd8RcxFnxeXTD2jzPHMB1kRJ41LtrnmpaLUMlLOouRwF1wdbPSV8IvzvvrD9J/OWTvVZG3R/KnVimjxJKhkZi/qctuUNts2SrxMnTsgIwDGo74gyZcpkszsiAD3LmzevjPTR85U4obnniz24ZduirC36F6Echb0pTTZP+nFGBZq0r5FYVWkNXJA1dhxzgnR023VRJFUx5cc9lnldXC4jbjzzBH1eDKDggqvqBQcH11+VEVG5xtr00jf6sQANWladvp9anr7KHbaFkpGoz2nDJF88H4C7pRVG2AcMILq0uiMC0DP1ua+H5CuFd2pKlTmRKCnBm1vbEtcEm3KwCc0/34qqt/OVR63Dyye+pTQFT5Tfu9K8jdORrdfpyJbrIvb0jke1vs0jYsZ7QH5VJrWIeX9HZf9ILjp7aKM5+eL3pkwDbXrpuVJ/mfpZ6JuOucnH05hzYtXXefWNhrVZrcK9gve5O3TIvHv7okWLqHHjxiIGMLr69evTihUrRDx8+HDq27eviAGciZ+fH2XPnl22iKz8FfLJgug2HaexsmVsPKmeJ/QHB76hbAW9adrhJvKVTzO9315aOOKIiAcvr06l62k7RSIGuVAJGiVbxqLePu7q1avGKDXB9NYlDWAt6PkCiHzu2/s6707arXa0taQpPajbH+Zt+nhj7P3rroj4U/D2Sisnma9VXPZCq8Tr+vlHVN1zMrX9aj5N6m7MbYWOHTsmI6K4cePadEW7TZMvPUzGBLAGnmivrvFly+5oAL0rXLiwjOx/nY9JsSn4bhwxT2rV5JP07NFL+YoxVWmVU1TY5yr83mmjLuL6MSFv39NP8yqLP//dlHLyqO1dP/9YJH7+Jx9Q4P0IG40bhPpczp07t4xsAz1fANHw77//yogoefLkqPEFTo2nlyj0cJ2f8N0OUfR0XJcddPnUA3nUuLjCPu8/mcH303v1eF4a/1l+eCRyk0dtj5MvRZ680S8wqyfq5Et9jtuC1ZMvzhaVVWBcop8L8QEYnfoLBr1e4OzUX0x6GOHImi2zjIguRVEjC2yv+c+FxdZLA5dUo7p168mjxqK+zhsu+XJ3d6fMmcM+CBh6BEeg5YcSQO/UNyDqeTL2kts3DxWsmJZaDihC+cqF1csCbXEh17INs1LuzGElMIzk5MmTMrL9TbbVky+mt7sigC+lZXc0gN5xgWGekMx4dOPevfBFQbXWsG4LGrO5LrUZ/LUodwDa4ppkd648FXEsik+x6dPnqtnbrVu36OlT878hSZIkNi+ibZPkq3Tp0jIiOnjwoIwAjGvv3r0ywrAjAE8tUU+6t/d1nlc88sR7sA+upt8442yqmnAizexrLjVlNOpzOF++fDYvom3znq+tW7fKCMCY/vnnHxkRpU2blry9vWULwHmVKhW2t+COHTtkZC8xKPBqXNow+wyN67KdzuwP21oHbO/cAfP7zfXJYrzVbpK/NanP4aJFi8rIdmySfHF3HXfbMe6SPnPmjIgBjEj9oVT36gI4M/Vnwf7JV+iN/txLNLLtFlo1+RQd22auCA/a8PB0owy+5u/8UiXKimej0fo6b5Pki7vrihULm3Cnhw8mwOdC8gUQGY9wuLmZezn4BtveK9vLl64sI6Jj22/KCLRQp+tX9OfpFrT6fieqW7WlPGoc9+/fpwsXLoiYz2kt5vXabFBT/ZdH8gVGtnv3bhkh+QJQ8JdUnjxh+wzae4pJ2aK1qEb7PKLA6IDFVeVR0FLKpJnIPXZC2TKOLVu2yMhcQFi5qbAlmyVflSuH3YVs375dRgDGsm3bNhmZ53uhuCpAGD3dZMeNE4+GTG9PlZrnoCQp4sujYGsndt2kk7vNPY2eZMxt19Tnrha9XsxmyRcXW/X09BRxUFCQLmrBAHwqDDkCfJj6M7Fz504Z2U8iyiQjooDrgTICW5o7+AD1KL2cKrqPpzun7bvJ+udav369jBwg+eJ5XyVKlJAtDD2CMSH5Avgw/kzEiRNHxLz3aUBAgIjtxfTYi8Z+u53qpZ5O3UsulUfBVngvxxO7bonY9N5E+bOaNwU3kitXrog5X4zP5TJltPk32Cz5YuovKyRfYDTBwcF06JC5Zk2MGDGofPnyIgYAs0SJEoXrKVDPnbGHtInz0d6//enBrSC6d+M5+TvAPo969j404WozuChl/ioZFSydjdzixJOvGIe6x5bP5YQJtZmzplnytWvXLhkBGIP6nOVh9FSpUskWACj0dJMdI0ZM+qaRuecieRoPehwQLGKwjYRecanlgKI083gzWrByijxqLOpzVj1X3dZsmnzxF5YyQfnVq1e0b98+EQMYAYYcAf6b+gtr8+bNMrKfXj370uT9jWjZ9fZUqBIWyGghRmgqkTpuIdkyFvWiKodJvnjel76qIANEn73uiACMhJfm8/Aj4zlf/v7+IrYX33RfU/6ivrIFtvLX+BPUs+xyWjfzX3J/mZFcyDz3z0jOnz9vme/Fw43q0im2ZtPki6m/tOw9HwAguh4+fGjZ4V7LSZgARsPzIStVqiRberjOx6CkZP4S3bbYjxaOOCxisK7VU0/RiZ03aXT7rXRu8xt51FjUtek4V+FzWSs2T76qVKlCsWObNzzlPfLsvRoGIDr++usvGYVf0QUAkdWsWVNGRMuWLZOR/YTc8aZvkkymIU020PR+/4hVeWA99289p+vnzTsaxI0fmxpW6yBio1Ff59XnsBZsnnxxV56612DRokUyAtCvJUuWyIioVq1aMgKAqFSrVs1yk807Qty5Y9+NrTOnyE8+ac17DbKdyy7KCKwhWSoPWvuoM3UaWYJa96xBsWMZbzPt27dv0549e0TM52716tVFrBWbJ19M/eW1dClqr4C+3bt3z7LSkbuhkXwBfFyCBAnC3WQvX75cRvbTuVsbSpM1MXUZW4rKNMwij4K1JPCMS417F6TRQybJI8ai7qHlc9fDw0O2tKFJ8lW7dm0ZER0+fJhu3LghWwD6o+71KlmyJHl7e8sWAHyI+iZF/Rmyl87N+9Jiv2+pwXf5ySOR8Xpm9GrjnLO0ae5ZESemrOROyUVsNPYe3dAk+UqePHm4VY8YegQ9U38oGzVqJCMA+BieM6NMWD548KDdb7JjucQlHyoqW0RPH7yQEXwJnkM3vNVmqpdqOoVcSyuPGsvNmzdFRxCz1+iGJskXU3+J6eGuCCAq/KHkLw6GIUeA6PPx8aFChcJqPenhOp+CitG5Q/fop5qrqWayqXTvBvZ7/BI7l12wFK6NlyAu5UlrzF0/FixYICMS56w9Rjc0S7546DFWrFgiPnXqlNgHDEBv1L2y9vpQAhhV/fr1ZaSP+b1xKBGtGedP+9ZcFu0Fv6LsxJcoWCkdtR9WjDyTu1PLDvUoZgwX+YqxqG8MmjdvLiNtaZZ88dBj1apVZQtDj6BPGHIE+Hz8RabcZB8/flwXN9kD+g0Rz+4escknvTb79jmq+AnjULOfCtOagB7U59sR8qixcBHg06dPi5jP1QYNGohYa5olX0z9ZbZw4UIZAegDfyiVwqr8oWzatKmIASB6kiVLFu4mWw+9X0XyVKDRizrTshvtqEmfgvIofKqDG67KiCgNlaO4sRPIlrGohxz5XE2aNKlsaUvT5IsnZMaLZ971nO+IlOwTQA/UvbH2/FACGJn6JnvevHkysq+ujYeSR6K4skX09OFLGUF0rJx0kvpUW0kdCiyk83ufUUoKW0BnNOqOn1atWslIe5omX3HjxqV69erJFmp+gb7Mnz9fRvb9UAIYGRerjB8/voj5JvvsWXNZAntyI0/yoSLkf+oBdS2+hH6uuVq+Av+FdweY9ct+EV84do9eX04Zmji4irbR8MiGsvco31xzcWB70TT5Yp06dZIR0axZs2QEYF8HDhzQzYcSwMg48apbt65s6ec67xlYlDoXWUz/7rtDZ/bfoa0Lz8tX4GM8ErtRywFFKG78WJQxlzd1ad5fvmI86nOxSZMmlvmJ9qB58lWkSBHLzuFcSVwP+4ABjB8/Xkb2/1ACGF3Em+wXL+xfY8srQUrq8IN55CW2myu9eRUiYvhv9XvmoyVX29GsBZPIxcWY18bnz5/T7NmzZcv+C6o0T76YekhH/aUHYA98E6CscuTaXu3btxcxAHwe9U12YGAgzZkzR8T2Nrr/TKrZriDN92tF1dr6yqPwIepJ9hmTFKBSeerIlvFw4qXcBPC5yeeoPdkl+WrcuLGMiPbt20cnTpyQLQDtTZgwQUbm7YRy5swpWwDwudS9X2PHjpWRfbnFiUdzZywi77RhK/Uw+T5qG2afEZPs+1ZfSU8C3lBmChtKNqIxY8bIKPy5aS92Sb645lfDhg1li+j333+XEYD2pkyZIiN9fCgBHAHX/FJWt1++fJk2b94sYntLSJkoORWgB7efU++qf1Pvyn/LV0DxKCCYfu+6Q8QH1l+lM3+5UuzQd86o1q1bR7du3RKxu7s7tWjRQsT2ZJfki/Xs2VNG5uXIjx8/li0A7fBwiHLueXl5hVuNCwCfjxMv9edJT1NMUr2uRN2KL6NDG6+JFXxTeu+RrwDz8o5H/RdWofiJ4lC+khmob6dR8hVjUp97fFPACZi92S354vHWwoULyxbRpEmTZASgnVGjwi4qzZo1I1dXYy6hBtCjjh07yohow4YNogdMD+LF8aS+A3uImKu2ZyuQXMQQpmTtzDTvbBtauGCJYSfZs/Pnz9PWrVtli3Qzp9duyRdT934h+QKt/fPPP+KDyTjp6t27t4gBwDqKFi0a7iZbT71f3VsNps6/1KTZp5tTmQZZ5VHndnrvLdqzMmxLqCIpmlG21MbeFUA9p7dUqVKUP39+2bIvuyZf3CWdOnVqEfOKs8WLF4sYQAvqLwKuS5QiRQrZAgBr6du3r4yIZs6cqYuyE4qJ/1tOGdNkly2ieUMP0uN7wbLlXJ7cf0FDmm6kX+qspal99pAPFQ19fC1fNSYuLzF37lzZCn8u2ptdky/ubejVq5dsoewEaIcnXy5fvly2wvfCAoD18LZy2bObExxOvPRUXDsmxaKc1IZMr+PQL3XXiErufaqulK86l9kD9tP9m89FfH7fY0oXUkPERjZjxgxLsp8lSxaqVKmSiPXArskX4zkBiRMnFvHBgwdRdgI0MXnyZBmZu6LtXfMFwFFx7bzu3bvLFtEff/whI32IQ4nI5Xwx2r/2imhfPH6ftixwvur3308tT1Va5aTkqRPS+pXbKZZrHPmKcY0bN05GRN999504F/XC7skX7/fYoUMH2SIaNGiQjABsg4s+qucY6qkrGsAR8dJ+T09PEfOke73t61s8bzX6bcYvIm475Guq2CxsKNKRvX4VIrZaUvz0Zw3ad2QHpUiaTh4xrgULFljKS/CUkpYtW4pYL+yefLFu3bqJJIytWbOGjh49KmIAWxg6dKhIwJjeuqIBHBEv7Vf3fvXr109G+tG95SDacno6tegf1gt+dNt1GTmmX+qsoS7FltCB9dzrF5N8qS1lTJ7P/KLBqW+q+dxTcgy90EXylTJlynBFz7h7EMAWbt++TaNHj5YtopEjR+qqKxrAUfXo0YN8fHxEfPXqVZo6daqI9aSCb3tKTWVFvHj0Efq+wl80sdcu0XY0C349JOqcsZ9rrSHPgIqiAK0j4BWOfK1n3t7e4tzTG10kX+zHH38kNzc3EXMJAK4JA2BtAwcOlJF5f69atWrJFgDYUqJEicKVc+EpJq9evZIt/UhP1ejyFnea2nuvaC8fd5x2LrsgYkdSv1d+8i1mXuE9Yd4AyuVdQcRGFxwcHG76Up8+fSy5hZ7oJvnKmDFjuIJ86lWQANZw8eLFcCutML8QQFt8jVd6v7i8kHpCtJ60rjiEqjUuKuKSdTI5TB2wwMcv6cqZhyKO4+ZKozbWoYmLBlDnxmE3pUb322+/WXYt4V4vvW4ZF8MUSsZ2FxAQQOnTp7fcDc2fP19UHQewBq7l9fff5n3ceAPt3bt3ixgAtMN7+SpTSxImTEjXr18Xz3pjMr2ngRM6UvnuYZtw+x0JIO90CShRUvtvT/Oprp9/RP1rr6Ggp69p2tGmlCxVAspCDcibCsmfMD5OutKkSSN6vxgn93otI6Sr5IvxJDmeh8NSpUpFN2/eFDHAlzh+/Hi4ysY7d+6k0qVLyxYAaOXly5dioYuyEo2nnKi3+dKb27SHLtNqunv1GbXPv5BiusSgnhPLUtmGxuoNa+U7j67KXq/shXxo9/4tlNQll2g7Ck7qOblnPJfc399fl0OOTDfDjgpeBaPcBfGHU701AMDn4hW1Cl7diMQLwD541Zl60Qtf45VETI9SUknK9LYx9auxmp4/eUXPHr6k3Ssuylf1jf++ikFLq5Gbu6vo8ZoyaYbDJV48wV5JvNiYMWN0m3gx3SVfnHjxBDkFz8tRuhABPseWLVto//79InZxcaGxY8eKGADso1GjRpbCxjzNZPDgwSLWqxSxCtDEyRMoiU988vKJRz9MD5ucfmjTVRnpy/R+e6lOiuliuJGly+FFv61sR/sO/EOlClQTxxzJzz//LCMS+4nyOaZnuht2ZK9fv6Z8+fLRuXPnRJs/mAMGDBAxwKfy9fWlM2fOiJiXHKvvjgDAPnhHE954W+Hn50dZs+p7KO/h07t08PYCSpAzQLSPbL1OP1T8i3KXSCkqxHOCowezBuyneUMOijhbQW+afrgFpaNKlJrKhB5xvNI6vJhKfe7wuaXe0F2PdNfzxeLEiSNWLChGjBhB166Z65EAfIrp06dbEq+kSZPSkCFDRAwA9sU9Xw0bNpQtCrfTiV4lSeRD1XP+SLmoHcWmBDSu83Zx/PTe27RruX2HIh8FhI0QNfguH8VPaN4eKFbMOJThcRtZv8wxaxq2bdtWRiTOKb0nXkyXyRerXLmypfI4T9DU29YAoH/379+n77//XraI/ve//5GHh4dsAYC98byc+PHji3jPnj00Z84cEeudJ2WnXK+6U6mK5i/5hF5u1OD7sAU9f3Tfodlw5MGNV6ln2eVUx2caXfczl1jwSOxGHYaVpl9++5ZOH7xGKT0do1RGVPgGm2uDMj6X+JwyAl0OOyp42DF37tz07t070f7zzz+pVatWIgb4L9WrV6f169eLuECBAqIrmud8AYB+8MiGst0Qz/m9cOECJU+eXLSN4NKNf2n3+YWUpVJIaMtEJ3ffpB6ll4vXitfMSMNW1RSxNT26G0RePuakddHIIzStr7kgbPkm2Wjgwm8oBRWnNFSeXElfW+pYG99gc43QoKAg0R4+fLhh9urVbc8Xy5EjB/3www+yRaJeBxfmA/gvy5YtsyRebMqUKUi8AHSIywNky5ZNxM+ePaOuXbuK2Cgyp/GldpVGUAH6kTwpB63444R8hShf2TQyIhrdfgu1y7dAzMd6GfxWHv24+zefh1ux2KfaSmqefQ51K7FMHiGq0jqneI4V24VSeGWgfCF9KAPVcPjEi7Vp08aSePGcLyNtTajr5IvxCobUqVOL2IgfTNAeF9rr3LmzbJEYsuaeLwDQH57jO3HiRNkiWrFiBa1bt062jMOdklMuaksTR8ynbr80oZQZPKl0/czyVaKDG67RpRP3LRPh2d1rz6iyxwRqkmm2WJ2o2DjnLFVNOJHqp5lBhzaGDV++DHpLN/we0+3LT+nqWXPNrjTJstO8DaPI/7ofzR2/ntxdPcVxRxfVDTafS0ah++SL5+iMHz9etoz7wQTt8N2Psr1EkiRJDDMHAMBZlStXLtzk+3bt2ombbSPKnaUIjf/fQrp1+RGV9/lJDAE+vuJCD++Ye2hSZkpEcePFEvHju8EioeJk6rb/U3GMvQp+S8GBb0SsPp6jiLd4zp4/FcV/kpcK0c/0FXWn5lV+pDTejrEpdnTwuaG+weZzp0wZXslpHLpPvhhvflyzZti4uZE/mGBb27dvp3nz5skWiWKOnIABgL7xTRJvvs14eol6sYxReVBaykS1qVaGURQY9Jg27l1Kw//oR8mpQOhraejVU1f5k0QuscKmRcRPFIfixo9NqTN5kbuLF/lQUcpM9WlUvznE07TPHb1JdYt/R27kHL1cEXXv3t1yg83njBFvsHU94V6NtxnieQEvXrwQbU7AZsyYIWIAxmP/fI5wpWNWvnx52rp1q4gBQP+WLFlCjRs3li0S+6/yPqyO7s3b1/TufQjFjuNKMSk0CTPFpBgxDNE3ojm+weZru2Lx4sW6L6gaFcMkX4yXIbdu3Vq2nOeDCdHDd0PKdlS8m/2JEyfEMwAYB3+RLl26VMTp0qUTq955SyIALjuVOXNmyw02Dzdywm5EhkqtucyEel4AT6RWVjqAc9u7d2+4fUDnz5+PxAvAgHjitI+Pj4i5uLZ6uzlwblz9QEm80qdPL84VozJcvya/2fymM/5gGrG7EayLa73Uq1dPtog6duwYrlsaAIwjceLEYpQjZkzz1xPfVP39998iBufF58DkyZNFzOcGDzfyuWJUhku++M3mN135YPJSUy7SB86LF2NwAsa4Nhw2zgYwtooVK9Ivv/wiW0TNmzcXez+Cc+LfPZ8DCj43jLCF0McYas6X2qBBg8LthI/5X86Jy0ooG2W7u7vTkSNHRAIGAMb2/v17kYTxBGvGlcxPnjxp2Y4InANPLcqbNy9dvnxZtLmkxLZt2ywdMEZl2OSLP5g8tLRz507R9vT0pH///ZdSpEgh2uD4uBu6bt26soXtpwAcTUBAAGXPnp2ePjXXuqpRowatWbNGxOAc+Heu1PbkbadOnTplqO2nPsSwqaMy5qv8ErjmB/+SwDlE7IbmxRdIvAAcCy+amT17tmwRrV27lkaOHClb4Oh+/fVXS+IV8Tvf6Azdb8e/BP5lxIplrhZ8/PhxMdkaHBt3Q/Om2UrNNx5mVCZiAoBjqV27driCq7xx8p49e2QLHBUPLfL2gooff/zRcFXsP8aww45qvALy22+/lS2ihQsXUpMmTWQLHA0nXsqeXgkSJBDzvLJkySLaAOB4eJoJf+43btwo2phm4thu3LhBuXPntuxkU6lSJdqwYYPh53mpOUTyxTp16kTTpk2TLaLTp0+Tr6+vbIGjGDZsGPXv31/E/EHkDyR/MAHAsfEXMa9wu3Dhgmjny5ePjh07JmJwLJx4cXLN+Maab7D5RtuROEwaybVgihUrJltElStXpitXrsgWOAKueq0kXuy3335D4gXgJBImTEirV68Wz4ynmajr+4FjqFatmiXx4oSL5/k5WuLFHCb54nlfK1eutAw/3blzh0qXLi2ewfi4h0tdUJfn9vXs2VO2AMAZZM2a1bL1EPvrr78wxcSB8DWer/WKZcuWOeyUEscZQA2VNGlSsQzZy8tLtHkzbp6gpxTgBGPiiZd8N6TguR8TJ06ULQBwJtzbzduHKXjRVefOnWULjKpFixbhEutFixY59MiGQyVfjO+MeFKmh4eHaF+8eJHKli1rqRMDxnLw4MFwJUQKFixIy5cvJ1dXV3kEAJxNs2bNaPjw4bJFNHXqVLEKEoypW7du4RJq/t02btxYthyTwyVfjL+guQfMzc1NtM+ePSsqJT9//ly0wRh4Mm2FChXo1atXop0zZ06RWCu/VwBwXpxs9ejRQ7ZI1P/iBTlgLLxbjXokg3+nzpBIO8xqx6hwcTauERMSEiLaX3/9tdiqAl/e+nf+/HkqWrSoZakxLynnFS9YWg4AatxDsmTJEtkisd2YOikD/eKki3u9FA0bNgz3u3RkDtnzpeC5QQsWLLDUBtm/f7/YhBn07erVq1SqVClL4pU2bVrasWMHEi8AiISHq9SrHnkhzpw5c2QL9GrGjBnhEi/uKOHva2fh0MkX40ya5wMotmzZguXJOsaLJDjxevDggWhz4sWbpvNcPgCAiHj+J0+6V1/XW7duLY6BPvHE+g4dOsiWOfHilY3ONJfX4ZMv1r59exo9erRsmZcn81wi3qYG9OPMmTNUpEgRkYAxJfHiZwCAD4kqAeMSFJMmTZIt0Itx48aFKxvkjIkXc+g5XxGNGDGC+vXrJ1tE2bJlEz1hqVOnlkfAXri2S/369S37NSLxAoDPwV/s6pIF3Aum3pwb7KdNmzb0559/ypZzzfGKyCl6vhS8gmLWrFnk4uIi2n5+fvTVV1+JidxgP5wUcx0vJfHiVY38O0HiBQCfinvA1AWY+cueC24HBgbKI6A1fu/5d6BOvPh35MxDw07V86XgcgXcPa182TPu9uSeF9AW1+vhjdAVPN9LvYUIAMDn4FWPvXr1IuUrLlOmTLR161ZKly6daIM2rl27Jqb5+Pv7i3aMGDFo7NixTr9DiVMmX+zo0aNUtWpVy8Ru9vPPP9PQoUNlC2zpyZMnYjUqr0BVcPLLK5fixIkjjwAAfD4uyMylKN69eyfaiRMnFiWIuOwQ2B5PHeE5XXy9Z3xt52s8OjqcbNhRrUCBAmJoiyd4K7hAX61atSxFPcE2+A4oX758lsSL74QGDhwo5mkg8QIAa+Ev+X/++cey5RwnAcWKFQvX2w62oQz3KokX/w527dqFxEty2uSLKZO627VrJ4+QGPLKmzevqK4O1jd58mQxz467ohnvVs+7EXCVY07CAACsiW+w+XqeJ08eecQ83aFly5bYds4G+D3llaY8uV7B7z3/DtSdHc7OqZMvFjt2bFHsjR8cswsXLoiesZ9++km04cspm5x36dLFUuKDa3cdPnxYDD8CANgK32gfOHBArK5TzJs3T6x45437wTp4PjW/p+qJ9Pye83uPBVThOX3ypeDeL54HljlzZnnEvLknn0inTp2SR+BzTJs2Taxg5C5nBW92zokXiqcCgBbixo0ryhqMHz9eHiG6d++emAzOvTTY+/fzcW9X8+bNxTxqfk8V/F7ze87vPUTAE+4hTGBgoKlevXq8CCHco3///vInILpu375tKl26dLj30c3NzTRp0iT5EwAA2gu90TZlzJgx3LUpRYoUpq1bt8qfgOjasGGDKXny5OHey9CbbfEew4ch+fqA4cOHm1xcXCKdUCdPnpQ/AR8zY8YMU4IECSK9f2fOnJE/AQBgP8+fPzc1a9Ys3DWKH+3atRM34fBx/B61bNky0vvXsWNH08uXL+VPwYcg+fqIs2fPmvLlyxfp5Orbt6/44EJkfn5+pkqVKkV6z/CBBAA9WrFihcnHxyfc9Yrbixcvlj8BEfF7E9V79vfff8ufgP+C5Os/vHv3TgyTJUyYMNyJ5uXlZRozZoz8Kbhy5YqpadOm4d4jfvj6+pqOHDkifwoAQH+ePn1qatGiRaTrV968eU1r166VPwWrVq0y5cmTJ9x7FCNGDFOHDh3EewjRh+Qrmu7evWtq3LhxuJOOH6lSpTJNnz5d/pTzuX79uql169aR3pc4ceKYhg0bZnrz5o38SQAAfdu8ebMpbdq0ka5nhQoVMm3ZskX+lPPheV0FChSI9L7we7Vnzx75U/ApkHx9ou3bt5ty5MgR6STMkiWLaenSpfKnHN+dO3fEUGLE94EfderUMV2+fFn+JACAcQQHB5sGDx5scnd3j3RtK1KkiGnv3r3yJx3ftm3bTF9//XWk94Hfm4EDB4r3Cj4Pkq/P8PbtW9OIESOi/HByEjZ27FjTkydP5E87lnv37pm6desW6d/ND+6O3rVrl/xJAADjunnzppiQz8NqEa915cqVMx04cED+pOPhf1vx4sUj/bv5veDpJfzewJdB8vUFAgICTP369Ys0H0x5NG/e3GE+oDyRslatWlH+O3mZMa9u5PlxAACOhK/hUS0i4kf+/PnFzTZPSzE6Lg00evToKBeZ8YPfA0dOOLXmtBtrW9OzZ89o6tSpNG7cuHAF5hS8j2Hnzp0p9I7BUMXmuCgq74G2YsWKKLfhKFq0KPXq1UtsnOri4iKPAgA4nnPnztGIESNE0dC3b9/Ko2EqVqwoti3i62H8+PHlUX3j3Ub4+s7X+agq/bu5uYl/03fffUc5cuSQR8EakHxZ0evXr8XekJyI7dy5Ux4N4+7uLrbYqVKliqgEnD59evmKfpw/f57mzJkjtofgLYEi4iSrTp06IunCPl0A4Gzu3LlDkyZNEtdJjiPi63zNmjVF0sLXeT1au3YtLViwQDy/fPlSHg2TIkUKatWqFfXs2ZOSJk0qj4I1IfmyEd4fkj+gfEfx+PFjeTQ83sqIE7HKlSuL3d+17hULDg4WW/zw49ChQ+L59u3b8tXweDNs3oKDt5BImDChPAoA4JzevXtH27dvp1mzZtGqVavozZs38pUw3AOWP39+Kly4MBUqVEg8p0qVSr6qDb6JVq7v/MwbXPO1PyLe25iTRr7O85ZLGM2wLSRfNsYf0B07doiu6pUrV9KTJ0/kK5Fxty7vgag8K7G1nDhxIlyydfbsWflK1Ly8vMRQaevWrSlv3rzyKAAAqD18+FAM3/GDE7KP8fHxsSRjSkJmrWFK3p9SnWjxc0BAgHw1arzPbv369alevXqUJEkSeRRsDcmXxnjX9y1bttCmTZvIz89PHv043tyb75ZSpkwpnrnnKUGCBOTh4SGeucfs/v374gLAD44fPHhAjx49ssT8iA6+S+NhRX7w/y4AAEQfj3RwTxjfbPO8WZ5X9V/4Os7De8mTJxc3vZwEeXt7k6enp4g5YQsJCRHXcb7G8/8GJ1Xc5pjnGnMcGBgo/4sfxoleuXLlxDW+evXq4n8DtIfky45u3bol5ojt37+fDh48SFeuXJGvaIeHPsuXLy8+jDwfDR9EAADr4ISJr+08mZ0f3BvFx7Tk6uoqetiU6/zXX38tjoF9IfnSEb5z4UTsyJEjdObMGTH5/eLFi/LVL8d3UAULFrQ8uLsbkykBALTBk9uPHz8urvH84GFBf39/+ap1ZMqUyXKN56SLV9sbaZW9s0DyZQC8xJl7yXgyPK+u4Xlj3L3M4/v8zB9o7krmYUjlwT1Y3FXNq1Z4uJKfEydOLP+LAACgF5cvXxbXdn7wdZ6v8Vzeh6/xyoOpr/GJEiUS13T1NT5jxozi50D/kHwBAAAAaCimfAYAAAAADSD5AgAAANAQki8AAAAADSH5AgAAANAQki8AAAAADSH5AgAAANAQki8AAAAADSH5AgAAANAQki8AAAAADSH5AgAAANAQki8AAAAADSH5AgAAANAQki8AAAAADSH5AgAAANAQki8AAAAADSH5AgAAANAQki8AAAAADSH5AgAAANAQki8AAAAADSH5AgAAANAQki8AAAAADSH5AgAAANAQki8AAAAAzRD9Hxm6qBIiCVWGAAAAAElFTkSuQmCC)"
      ],
      "metadata": {
        "id": "04dqln3VeL9O"
      }
    },
    {
      "cell_type": "markdown",
      "source": [
        "É claro que, para uma definição tão geral, podemos ter funções \"bonitinhas\" como\n",
        "\n",
        "$f(x) = x$,\n",
        "\n",
        "mas por outro lado, podemos também \"objetos bizarros\" como\n",
        "\n",
        "$\\displaystyle  g(x) =\\frac{1}{x^{\\pi} } e^{sen( ln( x^{tan(x^2)})} $.\n",
        "\n",
        "Portanto, para cada função que temos em mãos, é necessário um tratamento específico para analisar qual seu **domínio**, **contradomínio**, **imagem**... se a função é **contínua** ou não em algum ponto... se é **diferenciável**,**integrável**, etc.\n",
        "\n",
        "\n",
        "A partir de agora, vamos aprender como usar algumas bibliotecas para fazer essas análises de forma computacional."
      ],
      "metadata": {
        "id": "30mm1PnzgvEl"
      }
    },
    {
      "cell_type": "markdown",
      "source": [
        "### 3.2 - Sympy"
      ],
      "metadata": {
        "id": "ceG8x4SYeoaC"
      }
    },
    {
      "cell_type": "markdown",
      "source": [
        "\n",
        "\n",
        "<img src=\"https://www.sympy.org/static/images/logo.png\" width=\"150\">"
      ],
      "metadata": {
        "id": "XtLY2wbzetj4"
      }
    },
    {
      "cell_type": "markdown",
      "source": [
        "### Construindo funções"
      ],
      "metadata": {
        "id": "1-sPvskumrby"
      }
    },
    {
      "cell_type": "markdown",
      "source": [
        "Vamos começar importando a biblioteca Sympy para podemos utilizar suas diversas funcionalidades."
      ],
      "metadata": {
        "id": "BE9KrIE79ors"
      }
    },
    {
      "cell_type": "code",
      "source": [
        "import sympy as sp"
      ],
      "metadata": {
        "id": "gdB18Olk7qfL"
      },
      "execution_count": 25,
      "outputs": []
    },
    {
      "cell_type": "markdown",
      "source": [
        "E agora, para declarar variáveis e funções genéricas (ou para se construi-las manualmente) com Sympy utilizamos duas classes: Symbol e Function. É preciso \"desempacotar\" essas classes, importando do Sympy.\n",
        "\n"
      ],
      "metadata": {
        "id": "2riQV2TC59T9"
      }
    },
    {
      "cell_type": "code",
      "source": [
        "from sympy import Symbol, Function"
      ],
      "metadata": {
        "id": "QC1S1dX6jZqn"
      },
      "execution_count": 26,
      "outputs": []
    },
    {
      "cell_type": "markdown",
      "source": [
        "\n",
        "Declaramos as variáveis e funções por meio de strings da seguinte forma:\n"
      ],
      "metadata": {
        "id": "71_3p50U81_f"
      }
    },
    {
      "cell_type": "code",
      "source": [
        "# x é uma variável complexa como default, passando o argumento \"real=True\" ela se torna do tipo real\n",
        "x = Symbol('x', real=True)\n",
        "\n",
        "# funções genéricas, para se construir monômios, binômios, polinômios...\n",
        "f = Function('f')\n",
        "g = Function('g')"
      ],
      "metadata": {
        "id": "DA08eC0v_bKI"
      },
      "execution_count": 27,
      "outputs": []
    },
    {
      "cell_type": "markdown",
      "source": [
        "OK! **Agora pense na função que você quer declarar e mãos a obra**. Para ajudar, consulte a documentação https://numpy.org/doc/stable/reference/routines.math.html ."
      ],
      "metadata": {
        "id": "lHLhq47thJpE"
      }
    },
    {
      "cell_type": "markdown",
      "source": [
        "### Exemplos"
      ],
      "metadata": {
        "id": "XMDrSXsnhtsb"
      }
    },
    {
      "cell_type": "markdown",
      "source": [
        "#### Funções Polinomiais\n",
        "\n",
        "São funções da forma $f(x) = \\sum _{i=0} ^{n} a_i x^i $, onde $n \\in \\mathbb{N}$ é o **grau** do polinômio, e $a_n \\neq 0$."
      ],
      "metadata": {
        "id": "cYlUyGOW5wyD"
      }
    },
    {
      "cell_type": "markdown",
      "source": [
        "**Task.** Construa a função\n",
        "\n",
        "$f(x) = a x^2 + b x + c$\n",
        "\n",
        "atribuindo valores para $a, b, c \\in \\mathbb{R}$, com $a\\neq0$."
      ],
      "metadata": {
        "id": "NsMRrIUBh7Rz"
      }
    },
    {
      "cell_type": "code",
      "source": [
        "f"
      ],
      "metadata": {
        "id": "etHgG4OmnJQZ",
        "colab": {
          "base_uri": "https://localhost:8080/"
        },
        "outputId": "622dcc81-456a-44c2-d19d-c71b541ff549"
      },
      "execution_count": 7,
      "outputs": [
        {
          "output_type": "execute_result",
          "data": {
            "text/plain": [
              "f"
            ]
          },
          "metadata": {},
          "execution_count": 7
        }
      ]
    },
    {
      "cell_type": "code",
      "source": [
        "# E quais as raízes dessa função?\n",
        "sp.roots(f)"
      ],
      "metadata": {
        "id": "kordu17skGog"
      },
      "execution_count": null,
      "outputs": []
    },
    {
      "cell_type": "markdown",
      "source": [
        "\n",
        "\n",
        "---\n",
        "\n"
      ],
      "metadata": {
        "id": "gaVcDkAJnIbw"
      }
    },
    {
      "cell_type": "markdown",
      "source": [
        "#### Funções Racionais\n",
        "\n",
        "\n",
        "São funções da forma $f(x) = \\frac{p(x)}{q(x)}$, onde $p$ e $q$ são funções polinomiais e $q(x) \\neq 0$."
      ],
      "metadata": {
        "id": "qTc4Oktqp28r"
      }
    },
    {
      "cell_type": "markdown",
      "source": [
        "**Task.** Construa as funções $f$ e $g$, tais que\n",
        "\n",
        "* $f(x) = \\displaystyle \\frac{a_1 x + b_1}{a_2 x^2 - b_2}$;\n",
        "\n",
        "* $g(x) = \\displaystyle  \\sqrt{ \\frac{a_1 x}{x - b_2} }$;\n",
        "\n",
        "\n",
        "\n",
        "as constantes $a_i$, $b_i$ e $c$ sejam arbitrárias ($i = 1, 2$)."
      ],
      "metadata": {
        "id": "OPzS39p_rE3V"
      }
    },
    {
      "cell_type": "code",
      "source": [
        "f"
      ],
      "metadata": {
        "id": "0kOMmrd0JKPB"
      },
      "execution_count": null,
      "outputs": []
    },
    {
      "cell_type": "code",
      "source": [
        "g"
      ],
      "metadata": {
        "id": "tmxFX5KFttia"
      },
      "execution_count": null,
      "outputs": []
    },
    {
      "cell_type": "markdown",
      "source": [
        "\n",
        "\n",
        "---\n",
        "\n"
      ],
      "metadata": {
        "id": "GqREAM02nGvc"
      }
    },
    {
      "cell_type": "markdown",
      "source": [
        "#### Funções Trigonométricas\n",
        "\n",
        "São exemplos, as funções:\n",
        "\n",
        "- seno\n",
        "- cosseno\n",
        "- tangente\n",
        "- secante, cossecante, cotangente, etc.\n",
        "\n",
        "\n",
        "Nessa documentação podemos consultar como declarar a funções trigonométricas (e várias outras):\n",
        "\n",
        "https://numpy.org/doc/stable/reference/routines.math.html"
      ],
      "metadata": {
        "id": "mY2H5zyi60H5"
      }
    },
    {
      "cell_type": "markdown",
      "source": [
        "Mão na massa!\n",
        "\n",
        "**Tasks.** Declare algumas funções trigonométricas!"
      ],
      "metadata": {
        "id": "netQVGTyzxDd"
      }
    },
    {
      "cell_type": "code",
      "source": [
        "f\n"
      ],
      "metadata": {
        "id": "7cf8kiON4e2P"
      },
      "execution_count": null,
      "outputs": []
    },
    {
      "cell_type": "markdown",
      "source": [
        "Caso precisemos usar alguma função com mais frequências podemos chama-las diretamente da biblioteca. Isso ajuda de \"despoluir\" um pouco a nosso código evitando usar \"sp.\" toda hora."
      ],
      "metadata": {
        "id": "16mO5iOImda2"
      }
    },
    {
      "cell_type": "code",
      "source": [
        "from sympy import tan\n",
        "g = tan(x)\n",
        "g"
      ],
      "metadata": {
        "id": "oqIM7Eztz_KI",
        "colab": {
          "base_uri": "https://localhost:8080/",
          "height": 39
        },
        "outputId": "7c067921-10b5-4cf1-beb0-882a0ec558cc"
      },
      "execution_count": 24,
      "outputs": [
        {
          "output_type": "execute_result",
          "data": {
            "text/plain": [
              "tan(x)"
            ],
            "text/latex": "$\\displaystyle \\tan{\\left(x \\right)}$"
          },
          "metadata": {},
          "execution_count": 24
        }
      ]
    },
    {
      "cell_type": "markdown",
      "source": [
        "\n",
        "\n",
        "---\n",
        "\n"
      ],
      "metadata": {
        "id": "ef-FXk1MH5bn"
      }
    },
    {
      "cell_type": "markdown",
      "source": [
        "#### Funções Logarítmicas\n",
        "\n",
        "É o tipo de função que tem a forma $f(x) = \\log_a x$, onde $a > 0$ e $a \\neq 1$ é chamado de **base** e $x$, é o logaritmando.\n",
        "\n",
        "\n",
        "**Lembrete**: O logaritmo de $x$ na base $a$ é o expoente que se deve atribuir à base a para se obter $x$.\n",
        "\n",
        "**Task.** Construa as funções $f$ e $g$, tais que\n",
        "\n",
        "* $f(x) = log_5 \\  x$;\n",
        "\n",
        "* $g(x) =  log_{10} \\sqrt{ \\dfrac{x^3}{3} } $."
      ],
      "metadata": {
        "id": "JQULnmu80VM_"
      }
    },
    {
      "cell_type": "code",
      "source": [
        "#log_a_x = sp.log(expressao, base)    # log de x, na base \"a\"\n",
        "f"
      ],
      "metadata": {
        "id": "Bm0CHeu30UvH"
      },
      "execution_count": 39,
      "outputs": []
    },
    {
      "cell_type": "code",
      "source": [
        "g"
      ],
      "metadata": {
        "id": "kcoDxpxG_8Kz"
      },
      "execution_count": null,
      "outputs": []
    },
    {
      "cell_type": "code",
      "source": [
        "# Para declarar o logartimo natural \"ln x\", deixamos o argumento relativo a \"base\" vazio...\n",
        "# verifique que log( exp(x) ) = x, ou seja, de fato se trata da função inversa da logarítmica\n",
        "sp.log(x )"
      ],
      "metadata": {
        "colab": {
          "base_uri": "https://localhost:8080/",
          "height": 39
        },
        "id": "XBp55CT-x-QE",
        "outputId": "a044ea42-5fea-4036-96c5-ae3f94179f89"
      },
      "execution_count": 43,
      "outputs": [
        {
          "output_type": "execute_result",
          "data": {
            "text/plain": [
              "log(x)"
            ],
            "text/latex": "$\\displaystyle \\log{\\left(x \\right)}$"
          },
          "metadata": {},
          "execution_count": 43
        }
      ]
    },
    {
      "cell_type": "markdown",
      "source": [
        "---"
      ],
      "metadata": {
        "id": "Yvk52zg-_H6l"
      }
    },
    {
      "cell_type": "markdown",
      "source": [
        "#### Funções Exponenciais\n",
        "\n",
        "É o tipo de função que tem a forma $f(x) = a^x$, onde $a > 0$ e $a \\neq 1$ é chamado de **base** e $x$, **expoente** real.\n",
        "\n",
        "**Task.** Construa a função de distribuição normal\n",
        "\n",
        "$$\n",
        "N(x) = \\displaystyle \\frac{1}{\\sigma \\sqrt{2 \\pi}}\\displaystyle e^{\\displaystyle -\\frac{1}{2} \\left(\\frac{x - \\mu}{\\sigma}  \\right) ^2}$$\n",
        "\n",
        "onde:\n",
        "- $\\mu \\geq 0$ é a média da distribuição ou esperança matemática;\n",
        "- $\\sigma  \\geq 0 $ é o desvio padrão da distribuição.\n"
      ],
      "metadata": {
        "id": "yICvClzW9eqn"
      }
    },
    {
      "cell_type": "code",
      "source": [
        "sigma = 1\n",
        "mi = 0\n",
        "N = (1 / (sigma * sp.sqrt(2 * sp.pi) ) )   * sp.exp ( -1/2 *   ( (x- mi )/ sigma ) ** 2       )\n",
        "\n",
        "N"
      ],
      "metadata": {
        "colab": {
          "base_uri": "https://localhost:8080/",
          "height": 61
        },
        "id": "MhpmC7kv_J1N",
        "outputId": "41be52a2-e5db-4a8d-ccc9-e515d919a631"
      },
      "execution_count": 48,
      "outputs": [
        {
          "output_type": "execute_result",
          "data": {
            "text/plain": [
              "sqrt(2)*exp(-0.5*x**2)/(2*sqrt(pi))"
            ],
            "text/latex": "$\\displaystyle \\frac{\\sqrt{2} e^{- 0.5 x^{2}}}{2 \\sqrt{\\pi}}$"
          },
          "metadata": {},
          "execution_count": 48
        }
      ]
    },
    {
      "cell_type": "markdown",
      "source": [
        "\n",
        "\n",
        "---\n",
        "\n"
      ],
      "metadata": {
        "id": "GluW1GeOH7h1"
      }
    },
    {
      "cell_type": "markdown",
      "source": [
        "### 3.3 Numpy"
      ],
      "metadata": {
        "id": "oV-YJUibDlXh"
      }
    },
    {
      "cell_type": "markdown",
      "source": [
        "\n",
        "\n",
        "\n",
        "\n",
        "<img src=\"https://numpy.org/doc/stable/_static/numpylogo.svg\" width=\"250\">"
      ],
      "metadata": {
        "id": "_jVe4WONDtl6"
      }
    },
    {
      "cell_type": "markdown",
      "source": [
        "Todas as funções que nós declaramos anteriormente usando Sympy nós também podemos declarar e construir usando Numpy, porém com um controle maior sobre o domínio da função. Podemos utilizar a Numpy para calcular diretamente os valores das funções em um ou mais pontos escolhidos."
      ],
      "metadata": {
        "id": "kFPVgKpvD_i7"
      }
    },
    {
      "cell_type": "markdown",
      "source": [
        "\n",
        "Vamos começar importando a biblioteca Numpy para podemos utilizar suas diversas funcionalidades."
      ],
      "metadata": {
        "id": "G4YAeKlZD7FA"
      }
    },
    {
      "cell_type": "code",
      "source": [
        "import numpy as np"
      ],
      "metadata": {
        "id": "HKGoFvMUFBwR"
      },
      "execution_count": 49,
      "outputs": []
    },
    {
      "cell_type": "markdown",
      "source": [
        "Agora para o conjunto onde queremos avaliar a função usamos o comando \"numpy.linspace\"."
      ],
      "metadata": {
        "id": "kjaU0TKLFJ1Y"
      }
    },
    {
      "cell_type": "code",
      "source": [
        "# vamos pegar o  intervalo/array/vetor da reta I = (0,1) e subdivido em \"n\" partes\n",
        "n =\n",
        "x = np.linspace(0,1, n)\n",
        "x"
      ],
      "metadata": {
        "colab": {
          "base_uri": "https://localhost:8080/",
          "height": 106
        },
        "id": "TfZbzsL-FjM5",
        "outputId": "607256f2-edd8-4c94-e285-b4429c6f9f48"
      },
      "execution_count": 65,
      "outputs": [
        {
          "output_type": "error",
          "ename": "SyntaxError",
          "evalue": "invalid syntax (ipython-input-3279025190.py, line 2)",
          "traceback": [
            "\u001b[0;36m  File \u001b[0;32m\"/tmp/ipython-input-3279025190.py\"\u001b[0;36m, line \u001b[0;32m2\u001b[0m\n\u001b[0;31m    n =\u001b[0m\n\u001b[0m        ^\u001b[0m\n\u001b[0;31mSyntaxError\u001b[0m\u001b[0;31m:\u001b[0m invalid syntax\n"
          ]
        }
      ]
    },
    {
      "cell_type": "markdown",
      "source": [
        "**Task.** Use o intervalo acima para calcular o valor de alguma função nesses pontos."
      ],
      "metadata": {
        "id": "GZfb2dXQGfwj"
      }
    },
    {
      "cell_type": "code",
      "source": [
        "# exemplo, seno de x.... lembre-se de chamar a função direto no Numpy!!!\n"
      ],
      "metadata": {
        "id": "9DoHqsiYGfLy"
      },
      "execution_count": 64,
      "outputs": []
    },
    {
      "cell_type": "markdown",
      "source": [
        "## 4 - Gráfico de funções"
      ],
      "metadata": {
        "id": "YtMU66C4Aen2"
      }
    },
    {
      "cell_type": "markdown",
      "source": [
        "### 4.1 - Definição"
      ],
      "metadata": {
        "id": "ho95nEFyE02f"
      }
    },
    {
      "cell_type": "markdown",
      "source": [
        "Por definição, o gráfico de uma função $f$, denotado por $G_f$, é o subconjunto do conjunto dos pares ordenados $(x,y)$. Ou seja, e o conjunto de pontos de $\\mathbb{R}^2$ (ou $\\mathbb{C}^2$), tais que $y=f(x)$. Ou seja,\n",
        "\n",
        "$Gf = \\{ (x,f(x)) \\ | \\ x \\in A \\}$.\n",
        "\n",
        "\n",
        "\n",
        "Nessa documentação podemos consultar como montar e customizar nossos gráficos:\n",
        "* https://docs.sympy.org/latest/modules/plotting.html#sympy.plotting.plot.Plot\n",
        "* https://matplotlib.org/3.5.3/api/_as_gen/matplotlib.pyplot.html"
      ],
      "metadata": {
        "id": "o8uNJyInkZUc"
      }
    },
    {
      "cell_type": "markdown",
      "source": [
        "**Exemplo**\n",
        "\n",
        "![grafico.PNG](data:image/png;base64,iVBORw0KGgoAAAANSUhEUgAAAawAAAEuCAYAAADSsCZ/AAAAAXNSR0IArs4c6QAAAARnQU1BAACxjwv8YQUAAAAJcEhZcwAADsMAAA7DAcdvqGQAAD1aSURBVHhe7d0HWFTX1gbgFUXsYEGxAKJixYa9915jiSXGFo2JRk0z7ab75950r0k03RRjYokae69gwQoWsKGCFKUqiA01+c+3crhRIwgIOmf43ueZJ8yZwQzDcNbZe6+91kN/GoSIiMjG5TH/S0REZNMYsIiIyBIYsIiIyBIYsIiIyBIYsIiIyBIYsIiIyBIYsIiIyBIYsIiIyBK4cZiIKBfZsH6DBOzbK2FhYXq/UuXK0qtXL/H09BSHfPn0mK3iCIuIiCyBAYuIKBf4448/jJHVPjkcFCRJSRdk9JgxUqtWbXEqWlSSk5PlDwtMtjFgERHlAghY+/bslcTERClWzFnq+fhIjZo1xM3dQ/Lnzy8PPfSQ+UzbxTUsIqJc4OrVq/Jwr97S++E+0rJVK6ldu7b5iHVwhEVEZOeCg4Jl3tx5cjosTC5eSDaPWg8DFhGRHTt+7Jjs3bNHtvr66ijrfOJ5OZeQYD5qLQxYRER2zHeLr6xbu1Y2btig92NjYiU8PFy/thquYRER2bGUlBTZs3u3bPXbKqdOnZTBQ4ZI8xYtJJ+N77m6E46wiIhsGFLOkxITzXuZ5+joKHGxcXJg/35xd3cXZ2dnSwYrYMAiIrJBmPy6cvmynD1zRiIjI+XixYuamp5ZV65ckdOnw3Qdy8PDQ4oUKWI+Yj0MWERENuiyEay++fobmfj0BBk+9DF55aWXJCILa0+//Dxbdu3cJXny5JGmzZpJ6dKlzUeshwGLiMjGJMTHy7GjR2XN6tVy9uxZ8+i9wcZg1zJlpGChQuYR62HAIiKyIZj6O3nypOzetUuOHjkiF5KSdM2pjBFssrr2hHUsTAUWLVrUsutXwIBFRGRDDgcHy5xffpUP3nvfPCLi4uIigwYPlhIlSphHMselVCmp4e1t3rMuBizKUWhl4L9jh3nvL9evX5f58+bJtq1b5eSJE+ZRotwNIyusUf3fO1PE19fXPCryyKCBMn7iBHFzd5d8xkgps5YuWSJnoqKkZs0a5hHrYsCiHHEt5Zr+keBqMTAwUDOUEKjgzz/+lLNnzhp/nBESZTznblCsMzYmxrxHZH8uGcEq9NQp2bJ5sxw7dkzvYzTVtl07adGihdb9K1CggCZOZFZMTLROA3p5VTGPWBcDFuWIS5cuSmBAoAYsjKR+/OEHzXq6WXR0tJw+fdq8lzZcdR45fMS8R2R/4uLjZae/v3z1xZdy/do1KVK0qHhWqiSv/OtVDVrl3dzMZ2aNq6ur1Klbx7xnXax0QTkCH6trxh8egpXv5i0yb+5c2bpju5QoWVJu3Ljxv2nCwoULa5uD9OCqMzIiUh59bKh5hMg+XLhwQUKOH5e333xLTp08qXum6tStK/0fGSA9evSUwkUK66gqo60/Ll26pIkauMBD+SX8m+fOnZNevXvL4EeHSN68ec1nWhNHWJQj8AeGzCQvLy8pV768lofZty9AIiIiNJjFRMdosCpbrpz5Hf+E550ICdGR2v7AQPMokX1ISEiQw8GH5bd5842/i3C9kCtWrJj0699fL+KcnJ00wGSmT1XK1asSeipUR2uobJGUlCQ9evbU0ZXVgxUwYFGOcvfwkLJly+rXe3fv1vYGWMvC2lX+/AV0qiItCFjHjh7TLqkBAQH6B80JAbIH+CxHRUYZF2P7NAEp8XyiFDIu4Mq5uUm/Af2lRo2sJUhcM/62MNV++PBhiTQuDgsULKD9r2rXsf50IDBg0X11JuqMXvk1atxIXEq5mEfvDlMlSNzAFSORlWG2AZ/ld6dMkQ/f/8A8KtKkSWP5+JOPdWYiq0qVKiVPjR8na9avk01+vjLzhx+0dqC9YMCiHIfd9R07dZKoM2dk7969snnTZqlYqZJuYkwPRlMHDhyQ+Ph4uWb8kZ84cUIuX7pkPkpkPahgERwUJF9/+ZVmBaYaMPAR6dK1m5R2dc3UFGBuw4BFOQ5XeDW9vTXNPSYmRheGcSWINN27wdz+xYvJmsARFhomly9fMR8hshZUrMBFFypYIJEICRdYs6rgWUHad+gg9Rs2ECcnJwasdDBg0X2DeXVsXnx7yjvmkYxDp9SDxmgrOfmCeYTIWrZt3Sbffv3N/ypYVKhQQTp06ijvffCBtGzVSsqXL6/HKW0MWHTfjB07Vpo1b2Heuzu0Uti5w18XkRGwsKcrOfmi+SiRNaCay8IFC+SzadNk3969kj9/fmnSrKmMHfeUPDlunCZYZGS2gRiwKIdhs/Cff/6hu/bR2gDTHxmBJItzCec09ffqlasavJBwEX76tJw5c8Z8FpFtw6zAju3bdS/i8ePHJa+Dg1StVk3atW8vPj4+UglruU5OWapgkRvxXaIcFR8Xpym8VatVlXr1faRcOvuubobNjiEhx817f9u1c6fs3rXbvEdk23768Uf54fsfZMXy5ZpEVLNmTendp4+MeeIJ4+LN03wWZRQDFmU7LChP/+xzmfj007J923ZNmMBGSAfj6jKjYqKjde8VkdVgCnD5smX6+UdGbGrTxZGPPy6jRo+WgYMH6X3KPAYsynYFCxbU3jvYGFymbBkpVaq07i3JTPZTYmKSnA4NM+/9DdMqJ+4w8iJ60LAhHtPVGzdu1MaLQQcPycXkZHHMn18rurRu01oqe1XWCi+UNQxYlO3Qe8ezoqdUrFhR5+vLlc/YNODNkpISJSzsnwEr6NAhCQ4KNu8R2QZM92EmAbX7Vi1fIatWrNTCzghi2NaBtaoWLVsyE/AeMWBRtsMfJypMPz1xgnZJzYqzxpXqnt1cqyJriIuL0/XV4UMfk/3795tHRerUqSOPjxktP83+2S5q+T1oDFhkc44dPSpnz5417/0TTg6bNm78R7sSovsNIyt8FhctWCiLFy3SY9gMjIrrE5+ZJKPHPiHNmzfX43TvGLDI5qDadHxcvHnvnxLPnzeuZnfJ1SusekEPTnJyskRFRsqWzVtk44YNmmCE9dtKlStLk6ZNpG+/ftKpc2epVr26+R10rxiwyOZEREZoWntasB8LBXSvpqSYR4juPz9fX3nxhckye9YsLWaLFvcYWf3rjdfl5VdfFY8KFbTTL2UfNnAkmzNowCNac+18GkEL6fHItFqyfJm4ububR4lyHkZVaNuxZvUaCQwI0D5tiYmJGqjq1asnffv314SjuxV2pqxhwCKb89LkF+VcQoLx1Z8SExOrRXOvXL0iTZo0/esJpv+8/56UKl3avEeUs1B9JSw0VDZv2iTr166TyMhILeZcrHhx6da9m7Rr117ad+xgPptyAgMW2SyUY1qzarW21z9zJkrWrF9vPkJ0/yFAbdqwQdvZp8LewsZNmsiIUSOlc5cu5lHKKVzDIiJKB0ZWSFV/6/U35NNpn5pHRVvmjBg1SqZ+Ok2rrVPOY8AiIkoDEnywGXjJ74vl6JEj5lS1SJu2baRDx45avcLV1VUKFSqkxylnMWAREaUB3a7R1mbWjz/e0iWg34AB0rdfXyNgtTGP0P3ANSyyWVzDogcBxWuDDgXJFzNmaBFmZAEC1qoaNW4kvXr31krrTFm//zjCIiIyLZj/m8z5dY78vmiRxMbEyOUrV7RyxfCRI7TKOkqOoVYmyyw9GAxYRJTroaM1Sn6tWrlSVq9aJb5btsj58+e1O7BnxYrS5+GHpWPHjuJTv74GMDZcfDD4rhNRrhccFCTvvPWW+Pvv0H1/qQYZo6q33nlb6tarJ0W4GfiBY8AiolwJ6eootPz9zJky68efZO/uPXIt5ZqUKFFCvL295Rvj+ICBA8WTnYFtBgMWEeU6qPQfffas+Pn6yZZNm2Xf3r1atQL92xo2biSt2rSW9h3ai5eXlxR1cjK/ix40BiwiynUw7efv7y/v/fvfsm3rVq1iAWgJ8uprr8nkl17S+2RbGLCIKFc4HRYmG9atlyfHPCHPTpokn079rx5Hk9EevXrJ7DlzpFnz5lluOko5jwGLiOzeTmM0tXHDRlm7dq0cPHhQTp44qdOCqFbRq09vzQCsWbOmFC1SlPurbBgDFhHZPeyrmjd3jiz87TfdDIyECxcXFxn9xBgZP2GCBi0nZyd5KM9D5neQLWLAIiK7FBwcLL/8/LOMHDZcli5eIiHHQ3TDb6PGjTUDcOXaNdKoUSP2rrIQBiwisivYBBx++rQRpBZro0U0A71+/bo2+0Ttv6HDHpOqVavq1N9D3ABsKfxtEZFdQFC6cOGCRJ+NlqCgIFm3Zq1s37ZNMwLRZLFGzRrSpm1b6dmrlxG83MzvIith8VuyWSx+Sxl148YNbQPy2/zfxH/HDgk6dMh85C/zFy7QDcAlSpY0j5AVcYRFRJaGFiAorTTz2++MEdVWnQ4Edw8Praw+48svpVLlyiytZAcYsIjIcrBOlZCQoOtT+wMDdepvhzGyioo6o23rUaGicePGOgXYpVtXLVjr6OhofjdZFacEyWZxSpDSEhEeIQcPHJC1a9cYo6tgORESosfLlC2rCRWPDBwozVu0EOdiznqc7AMDFtksBiy62cWLF3WdatWKlXL06FEJOX5cki5ckKtXrkheBweZOGmS1KpVS8q7u+mIqnDhwuxbZWc4JUhENg9V1bf6+Wm/KrQAQVJFRESEOObLJ3Xq1pW+/fpJ06ZNpYZ3TfHw8BAnJycGKzvEgEVENg8NFdEC5Osvv5L9gfslNjZWj6O54uAhQ+Sd/5sitevW0ZEV2S8GLCKySRHh4bJl82YZM+px+WHm97Jn927zEZHqNWrIU+PHyzczv5MevXqaR8neMWARkc1Z+NsCmTd3nixcsECOHzsmSUlJ4uDgoNUqHh89WoaPGCFt2rbRdSocp9yBAYuIbAIqVaAoLYITAtUi47Zy+QrtVYWNwcVRrcIYWQ0fNVIGDh6kNQG5TpW7MGARkU1AsdrZP/8s48Y+Kbt37ZLo6GjzEZFOnTvLc5Mny5fffC1ubiyrlFsxrZ1sFtPa7R/6UoWFhsqBAwc08+/s2bMaqFCYtly5clK+fHnxruUtNb29tXKFu7u7+Z2UG3GERUT3FapUJCYmaruPvXv2iJ+vr6xZvVrT1kNPnZJ8Dg7SsGFD3fjbpl076dqtm/jUr89gRRxhke3iCMs+YUSFjb8//fCjHD1yRM6fP28+IlK7Th1p1769TJg0UfKw9QfdhgGLbBYDlv1IvnBBzp07J99+860GLCRSxMXGapt6NFDEhl9k/5V3c9NNv66urloTkOhmvIQhohyFQIX+VKtXrpJd/v5y6OBBnfpLTk7W2n9169WVjp06Sf0GDbQOYJkyZRis6I4YsIgoR50OC5PVxkj5g/ffl5CQEF2/StXACFK9+jwsI0aOFGdnFqql9HFKkGwWpwStC/untm/fLmtXr9b9VVdTUrRILSCZolmL5jJo8GDJ75hf8jnmY+sPyhAGLLJZDFjWgem9M1FnJCoqSg4dPKB7qkJPhWpSBZQqVUrXp1q0bCkVK1YUz4qeUs/HRx8jyigGLLJZDFi2D6cPVKEICw2TgIAA2bd3r8w3fl+ALD+UTcLoqUbNmtKwUSN54cXJ+hhRVjBgkc1iwLJ9Z4wR1cmTJ2XEY8PMI3+rWKmStqgfOWqUODk7mUeJso4Bi2wWA5ZtQiNFVKNAy4/Qk6ckLCxU/Hz99LHCRYpI8+bNNeOvQoUK4u7hLl5eVXSdiuheMUuQiO4KiRPoQRV+OlybKaLVx9rVa2T9unUarPLnzy9u7m5Sp04dad2mjfTq01s6d+2iU4EMVpRdOMIim8URlu2IjYmVOb/+KsFBQcaIKkxbfqTCnimvKlVk0jPPSLce3c2jRNmPAYtsFgPWg4X3H1l+qPUXGLhfN/xeunRJ09NRoaKKucm3bLly8ujQR6Vc+fJSokQJ87uJsh+nBHOpuLg4OWVWG8B0D1Gq8+fOyYmQENnp7y8bjIsEPz8/zf6LiozUx9CDCiOqtu3aad0/TAHWql2bwYpyHEdYuZTvFl85evSItDNOOrhCRudWW8MR1oOB4LR92zbZ6rf1lrb0qRCsuvfoIaPHjNYkC6L7hQErFwkOChb/HTv0a7R4QHfXmJhobTeOxfE7wQgsKTFJp4a8a9eS0qVLm49kHtpHFC5UWEqULCEVPD3No2ljwLp/1q9dqz2p9u0LkJDjx+XK5ctaneKaccOG30qVKknnLl00+8/FpaTkL1BAL3JY84/uJ04J5hKbNmyUbVv9dLG8arVqUqduHWnQsKE0bdZMiqczlYPK2nv37pFy5ctJwYIFzaNZg5MbiqAu+O038wg9SJjew0XMN199LSuWr9CLmRDj8xEfH68V1OvWrav7qPr176dZf/Ub1BcPD3cp6eIiRYyRFYMV3W8cYdk5/HoxUpn83PPGaCpGqw/M+mV2hk42qGCwfNkybbI35d13zaNZFxgQoMEKdeZ2GkEQayHp9TziCCv74T1N/UxgnWrXzp0y5e139DF8JnDD76VR48Za869ho4biWbGiMapy0ecQPUgMWHYu1BghLV28RGb9+KNOw7Vp21YmPjMpQwHri+kzpFixYtoCon2H9ubRe7N7126dGsTayNinntTXkxYGrOy3Y/sOXZ/COhUqp8fHxZmPiI6cvLy89PdS2fivm5ub+QiRbeCUoB1DsNq3Z69s3LBB05EjwsP1a/QiSkpKMp+Vts2bNumemztB4Pl19i/yxr9e042kN3eNxV6dxb8v1sfCT582j/7F07OCtGrdWjMUL1y4YB6lnPTXWmWM/GRctCxauFC2bN6s7//F5GTzGaJ1/nr36S2jx4zRnlTFixc3HyGyHQxYdgxdXmOio3Xq59q1a3L9xg09eSFQpKSkmM/6JyRkJMQnSNChQ9oV9k5iY2N0PWrNmjWy17haP3vmjI6IIiMijKv3fRoYF//+uyQknDO/4y+lSpeWGjVr6OvC1f3NvZEo++H9DTcuVA4dOKBTsdu2btULCrz/+H1hrQpJFU2aNtU09fYdO9hs1igRA5Ydw96Yps2bS526dbV0Tu8+fWT1urV6P701iePHjsvsn3/WNay0IK35sWHD9PbuO1O0RM+lixflpckvyvTPPhNf4yoe/59ChQuZ3/FPmJ5asXy5eY9yAoLUJx9+JGPHPKFrkQhUqTw8PIwA1VE++uRjGfvkWG39QWTLuIZl57CX5pkJE7Ryds/evbRy9t0cOnhIR0hfTJ8uT457SkYY33OnTaEJCQlaW27Yo49q2nNdn3rSokULTXnOn7+AFClSWCpVriyFCt0atFA8ta53Lc1SRCO/Z597znzkVlzDypg9u3ZL2Okw4z06Yx4RuZCUJEcOH9GRL1rU43dVzhg5ORdzluLFS0j9+vWlVp3a4lGhgpRxddX9VEi2ILJlDFh2DNN/WzZtkqfHjZeu3bvpPhqMsu7m5oD1/OQXZOxTT5mP3CrlaopcvHRR2rVqLQWNoITGfJ/8d6oUK1483RT41IBV07umNG7SRF5/803zkVvdHLCQIDDl3f8zH8kYpOv73KFJIE7eSN2+fX0tPd7e3uJapox571ZYE0SLjYxAsounJ7LuSkpRpzu33EhKTDReX4KcOpWxfxPrlJj2O3v2rHnECFjJF+TYkaP6dYGCBcTJ+H+179BR16aKFS8m9erV04sYVqcgK2HAsmMopYMF9jdee12Gjxwpbdq2STcrL1VGA1Yqn9p1xNnZWarVqCFff/uNeTRtqQELoy+Mst774H3zkVvdHLCQWZhZmOL6afbP5r2/YR1ny+Yt8v1335lH7m7qp9PSDPYzPp8u//3kE/Ne+jCKeXriRGnXob3Url3bPHqrwIBAbd3x2bRp5pF7gyrqtevUkY+M11jAGP0SWRUDlh0L2LtPA9b0zz+XxcuWiVcVrwydsDIasFAFA4kTvXv01EQNpEVv8/+rkkZ6UgNWm3btpFXrVmlOU94csA4eOCB9+/UzH8kYjCCGDnvMvPe3U8Zo6MSJE+K//e6vNdXDxv+7Vu1a5r1bob0GRrIZ8VCePNK6TWstb1S2bFnz6K0ijQuNkyEn9Hd3u8ioKFm3Zo15L2MwFfyGMYotUbJkhrYzENkqBiw7htRznPS++uIL2bB5U4bKIcFJ42S+Z88eefP1N2Tc+HEyavRonVK6HbrNBh0Kku9nzpTTYWFawXvFmtVSzBhtFcjAlGDHTp2ktTHqe3ToUPORW90csJDp+O/33zMfyRhMf2FkcTtUeEgwbkjzz6jqxugxrbJUp8NOS2joKfNe+hAw0NgQU3FFihY1j94KWZyYtkSVkdvh/4XsyyOHD+uUb0YMeOQRef+jD817RNbFgGXHdu/apVNfmQ1Y2LODdZmRw4bLY8OHyRAjoGB9KlXqRwYnzXVr1+nXKOtzODhYvvr2G6lcubKOttK6mr+YbASsWn8FLExRDhn6qPnIrZh0cRvjfQ87fVqW/L5YZs+apUEtIwYMNALWhwxYZH1Ma7djCFhxcbEy6dlnxblYMfPo3WEkgWQI7M1xdMwvp07+PXpAhYoqFStJ3959tGxT9x7dZcKkidJvQH+tUTh08BBp2qix9H+4r/kdt8KoDwEUELDSClb0N+yhQ0Had95+W55+apyubWU0WOFiA+8zkT1gwLJzyNbzrOgp+fJlvk051pcwdRUf/3f5HiRXYFTU1rjVrVdPSpUqpSOpevV8dE8WHnty3DgZ88QT5nfcKjHxvIRHROhoDwVUKX0ITBi5fjnjC70Aib4pExBp6ni/+z/yiF4s3AxrlXiPmzVvLtWqVTePWg96taHaCi500J8LX6e36Z3sGwOWncEfM8ow4YYrc2wY9jROXA4ODuYzMg4FUF1KuegUXuL5RP33ELCw7tS0eTOpUaOGjtwQsJDQ0blrF32s/yMDpHvPHua/8jeUg0IJJ6zRoBI42ozQPyGBBe831ghRXR+VRJYsXmyMskJ03crFuEhAwgbW1fB+d+veTRo0aCDu7u76+8DFCSpV4D2uW6+uuHu4m/9yxuD3jN/RzXUGHwR8XqKM9wBreai6gvVSZL5eN15fWvC5x3uHW3ob39ODqWi0VcG/gcQitFq5HV4Dfk+p/78U42vKeVzDsjP4o0YCBKBskmvp0vLq66/p/axAH6xjR49p7TlM/yG7Lau+/eZbuWz8gedzzCfjxo83j6Ytt65hpaa1r1q5UmJjYv5XpxEt6HGR8HDfvsboqYKOblHqKhVOrt9/N1Orh5QsWVJ+nTfXfCRzkEW5Y/t2CQgMlI8+/tg8ev99Z3xe8LOgqzECNUaNVYzPX8tWLdPcw7Z61Sr9vMKgIYPF1dVVv84MbLRGRZA1q9fo9DhKV2G24WYIorExsRIbGyvHjx+XNu3a6gUC5SwGLDvz1Rdf6okOUHEbV953Su3OKBRITb54UQMNTo5ZqTGHqguownD69Gmt/o5/B5lyd5ObAlb02WjZuXOnbFi3Tt8rTAUiWGHE7OjoKB06dtTRVOXKXlKmjKtO9Toao2c8lupeAxZGNKiMsWjBQt0jV7tuHQ2QD8Lypct0vRRp/K8ZF1w3jM9C3jx5jc9fId0QfvuMAUaF+wP36/aCK8ZoZ+hjQ7UmImYYMgv/FkZMCEaHDx/RDeaoyThw8KD/fW6REYvnXLli/L+GDJHhI4ZL1+7d76nBKd0dpwTtDGr3Ydoub5482ioCJ557gZI9uEpFT6SsFkTFFRGuizBlhenJjASr3AABGSfCw4cPy65dO7X+Iirko/UHsjRxUsbVPdYKdRq2WTOpXae2BnykxN8crLIDAqSvr69xgZJsBIXiDyRYoWAzUvfxOjAdmN/4GRGgUPcQa7H42e80vY3pv8PBQRpssO6Kz+vtwQpTeGl1KcBjcbFx+jvRKVXjc49/o2zZMnof20POnjmrzwNcMGD6tVTpUvo9qEyC6UrKWQxYdgbt7r+Z+Z288tq/dGTVrHkz85EHB3u4qlWvrjesv9BfcPLDlOuMzz6Xjz74UPdXYY9aKqxRDRw0SF54cbJOA5ZJozRUdkH1/ff//R+dgqtRs6Z59P7C1DPeh8WLFmk5LiRd4D1CIEsPAtWuXbukkldlQUWXO4mLi9M1wTs5Z4xokdRyLeXW9bF6Pj7SolVL3cIRfjpMEuLjzUf+gvVb/G5QweTA/gPmUcopDFh2CFeW2DCL1hFkmxYuWCAvPv+CTH7+efHz8/tfFXUEqUGDB8vHU6fKR1M/0Wmo6kagz2mB+wK0WC7U9Pb+R3BE9Q283n59+hiv+QWtPIIgAfjv2NFjjKD7gSxbslSPZQUajf48a5beMGpB0gkyJDMCSRJ+W3ylYIECOhV+u/nz5snHH36kPwNue3bv0Wk9/BxPPfGEPDNxkjGq2yJXU9JOnsC0bUzMndvtYGP77t27zXuUUxiw7BCu+jBlkV77ebr/kFGGArVofLlpw0Y5ePCgREVG6TohigfjIqNrt27Stn07qVffR9PWseaH6vcZgakr/Bu4VapcyTyaMVivwSgDkNxw+7QbjqFYsfHp0qSMZUuXaiIEkg82rF8vh4yfJTExSRyysH0iFYoLFyxY6H+vA+1xuvfsKaVdXdN9D5DqHxQUrGt4KH11p3UrvJdY+3NydpaAgABjNLRf263g57ho/F6QsYqOA+ll00ZGRepa6u3wfuc1vi86+u8tB5QzeEYjuk+wXoUr8Tdff12z2dDsMpVLyZI6FTdsxHDp1LmzrvVlFk7U7Yxgh3/Hp35982jGoFRVel2okcSBEl2YIkPgRXIH/nvgwEH56YcftToK1jjd3Mqb35F5TZo2kWrVqpr3RLp07Sovv/qKvhe3t6i5GSrlo6Bxelq2aqXvCwoiY30Q03+rV63Wn6N8eTdp376DPp7eumDoqVBNHLoZLg7xnjs7O0lC3K3ThZT9GLCIchCmkZDpOGTgIHmkXz8ZPfLvQr9Y2O/Srav8MGuW/DpvnkyYOFETZu4V9mVltlBwRPhp7ZWF15BegeSRj4+SRwY+ol+3MU7+/tu3yzv/N0UOHz8mL73yso6KsgP29FWs9Hc5sOyAfYVPPDlWv8aoECOs5atWyhtvvqF7BzGVeKcRVlHz91TSpaR5hB4UBiyiHIIuzHPnzJFFCxdqhYbUzaxomoiCtKiE369/f629WNSpqOTJmz1/jpgKzux0cOreljx3aeKIgsKpQdW1tKtO42HKDtORSDzAiCM7oO1MWv3HsgqvDQEJ7z+mzPF6sVaH6Ua8X2m99qtXU3RvFzpq3wnS3pMvJJv3KCcxYBFlI6zrYOoPe6nWr1svy5cu1at5VIjHCRJFgWvVqiW9+vSWESNH6v6qcuXLpTuquV+QkYdsvPS2ZuJ1ops0IHghhRzrbNkByRvXr/9VnQKbcDO6pylvXocMpfjjYgEVKjC9ielTBKlChQvr7yU9KddSdN0uJeWabhe5Gd4rXIxcuJD2dCplHwYsomy01ddPs9FaNWsuC+bP1zRt8DaC1PCRI+TzL2bIZzOm61qKrTkRckJbxaTuNboTFOFNbaVy6NAhiYrKvr1H2I8WEfFXyxfsPctowCpXrqxgf9rdIOElMDBQAvbt043Z2AwfGBCgyRoZUaZsWXF1/eeob9/efVr1gnIeAxbRPcIJD9NC06ZOlTm//ip+vr7mI3+d5Hr07CkTJk3SjsXYzJ1TMEJCmSC0lMlMc0qoXq36LS1k0oJW/H/88af+TBhtIcitWrnKfPRW2FOG15Oa/n43SIaINtP7MwOjVmT4pQf/bsDevVry6ouvvtJOBBgJL1+2XCuDbN+2TUfFf6RTf7CkMZrEhuo7cfNwl5q1vM17lFMYsIjuwV+VGcL0qn3D+g2y37iCx/4hbJbG2lQ9H1SpaCuNmzTWOoyYRsspWtk8NFRLGmEkkRlI+0ZtwjtBbT1Un8CeKBTFRQo4fiZ0MEZ1DD8jCCAwIQCkwnuC1PHtW7fK1Qw2msT3X7t2Xd+7zKyFYT0K1TDwuv648ccta03YLLzTf6cEGr8f7KEqVLCQJnSgezSqheD3FrAvQDMNEaxunwzFVG7qHjms1aX1HmGa0c0tc0WGKfMYsIjuwbFjx4wr9BUyY/oMPaGjUC0W8VEp4qmnx8uzzz0n/Qf015NqTkPACg4KlrVr1uhIIjNKu5ZOs3o+Ntn+Mnu2vDvl/3Tdp6kxOsHPVKdOHTln/LwLfvtNe3RhL1YqPP//3pmiNzwnoxDQ8d5lNnUDSR8YNV25ekVCb+rUjHT3oYMHyycff6JFlye//JIeb9iokTRv0UJ/Z7glxCdoGazb17Mw3ZfapBSbum9v45KqWLHiOV6JhBiwiLIEJ8Vff/lF3vjXa7pWhakycDNOeq1bt5b3Pnhf2nfoIO4eHnrc1iEjD4V1sQl28e+Lbykz5L9ju/aiQkFZBKvUn6lv/3567NHHHpOhQ4feUsm/YsVKmd5LhoK3J0+c0NdgDLHMoxmDgNWyZSu5fOmyhIScMI+K8RoqyqPGa0PKfatWrc2jonUZcRy31998U/97J5GREZJkjPze//AD8fL6Z11OJF3gc3DjxnVp2LCheZRyCgMWUQahlE9wUJAWqN2wbr34bt4iJ0+d0jUaXF136dpFK3YjUCF1Gunfd6q6YItwwi9brqxx0m8pSUmJcu5cgk7/AUYW2HiLkQ+m3lJ/pipVq2r6OQI0iixjKi8VMvKw2RdlnhzTqX6BKbuI8Ai9YXoRaedVq1XN1JQg4PtQiSN/gfxaKQO/J/y+XI2RI6Yv8TpKlXIxny1atgzFmPEY/n/o+3YzBCK8Jkwb1jD+Xfyct7c0iY+P19FZgwb1pUqVqkbQz3wrE8octhchm2Vr7UWQZTZ/7jztFYURFVpxADacYk0EPb6wznHzift+utf2IghQKHOEdHyPCh5awzCr1f6nf/65ccIPl3LlysvIUaPEyfnO7wmmGxGo4N0pU6RR40aaoIL3NCt7urKjHxYg4K5FPywj4GHdChcgt0OJJ2SFYqM2noPq7ZSzGLDIZtlCwMKJC4kMUz/5RLPvsI8Hrws3/Ol8Ov1zPbG7GVfrGKXgJJuVE212uNeAhZ8HN/zMCM4IJPUbNDAfzRyMOvEeYc0Lo5+03pOpH3+iWZXHjh6Vt6a8Iz4+PhqsMrvxOdWN69flD/OUhsrsWDuseJcMwrRgTTAPfp/Ga7nT68fPh/cqdcP0g/q95yacEiRKA9YusGEUe5Mw9YN9OzgRI426eYvm8vzkyeLt7a37hVI3olr5pIXXjp8BgRebgdEAMavwb+A9SQ3iacH7OPjRIfL0xIlSz9x7ldVgBShCi/8nbuidVewesjIRaFH5I63Xn/peWf33biUMWER3gEKwERERWlF97q9zjFFWmJ6YsC6DPT9t2raT8ROe1iZ/abVrtzKs8ZQtW9a8l3OQ/IB2KngvkYGXndNqmKbLyW0EdP8xYBHdwfPPPCvjxj6pvZNS4ep/zNix8vF/p8rjY0abR4nofmHAIjIhkQKt0Kd/9rl2mEX5HoyqUK2iz8MPy5gnx2q/quyqnUdEmcOARbleSkqKZvwF7N0nfr5+sm7tWu3vhAV1pKZjg2yr1q2lTZs2mgJtC4Vq7wTrKEWKFtGpMFShILI3DFiU66Hb7vx58+W9f/9bfvz+ewk6dEgzwJCijoaFaAPSoVPHLGeb3S9IAEAleIwC0VSQyN4wrZ1sFoJGTqW1Y/SEmn9bt27Vit0YWcXHxWlmG0Yn6FNVo0YN8aripVOCCAZ3a0PxoOFPGXX00OIEU5nY5EtkTzjColwHJ3UEq5UrVmjNPRQ/xYZZlFVCjbluPbprujVKBCELEFOAth6sAFOC6GKMtHsGK7JHDFiU66CkDno5ffj+B1rN4ERIiB5v1qKFDH70UXnp5ZfNjrcstUNkSzglSDYrJ6YEJ4wbrwVWIyMjtV8Tir6iUsXQxx6TuvXqipOzs07/EZHt4QiL7B76LO3auVOmf/aZBAcHa6M+rPOgnQSKvXbo2EGqVa/GYEVk4xiwyO5hfQprVdOm/lcbC2JkheSKqlWrStt2baVt+/YavBisiGwbAxbZvU8+/lgWLVxk3jN7VrVtK99+P1O69eih3XaJyPYxYJFdQuuHuXPmyEsvTJbgQ0FaZR3rVWg2+PiYMTJs+HDzmURkFQxYZDdQsQLrVdj46799hzZZXLRwofZ5cilVSuo3qC+dOnXSTbVNmjYxv4uIrIJZgmSzMpsliPWpAwcOyLMTJ5lH/tKqTWvp0rWrDB4yxDxCRFbEERbZBfSr+vWXX+SzadPMI6KllQYMHCgTJk6UDh07mkftF1rCL5j/m7zw7HPyzltvmUeJ7AcDFlna+fPn5fjx47J+3Tptt37yxEk9Xq1aNWnevLkWrK1WvboWhLV3KDcVFRWlm6KPHjlqHiWyHwxYZGloX79qxUr59L/TtCZgql59+mg7EJRZKlKkiHmUiKyMAYss67d582Xmt98Zt2/NIyIuLi4y46svpU/fh8XLy8s8SkT2gAGLLCc6OlqWLVkqmzZulMOHD+tGYOyl6tS5swwfNVJqentrk0UHBwfzO4jIHjBgkSUgl/XatWuauh4WGqYJFugOjClBBKbKxmgKLUHGP/20uLu7S8GCBc3vJCJ7wYBFlhBjjKqef/ZZGTJwkEx+/nnZvWuXXL16VRo0bCAvv/qK/DDrJ+nUpbP5bCKyRwxYZAkITocOHpSI8HDNDISBgwcZo6oB0rxlS71PRPaNAYtsGnpXobI6pgPDT4dLcnKy5HNwEDd3d12zatGqpaawE5H9Y8Aim4VKF7/Mnq37rFJVrFRJunXvLh9+/JHus2LhWqLcgwGLbJL/Dn95/z/vSWREhFw0RlWO+fNLjRo1ZPQTY2TUmNFS3fg6n6Oj+Wwiyg0YsMhmYNrv3Llzsn//ftm101+2bd0qly5dkuvXr0vhQoW0b1X9+vWlcuXK4uTkJHny8ON7s7x580olYwTarFkzTUYhsjcsfks241xCgk7/zfxuphw/elROnz5tPiJS2atytrTIJyLrYsAim7B65SrZsWO7rF29RhMrMNrCyKp06dLaHqRc+XIMWES5HOdU6IFChXE0W8T0X8C+AImNjZUiRYuKt7e3Jldgrap48eLms4koN2PAogcGg3uMnnw3bxHfLVskOChIj6NSRctWreSx4cOkno+PlHRx0eNElLtxSpAemG+++lpWrVwpBw8c0PslSpSQKlWrymczpkvJkiUz3cCRiOwbR1h032F96qcffhT/HTskKjJSj5UpU0YaNmokI0aNlMKFC+sxIqKbMWDRfYPySonnz2uQWrpkiZZaQpklVFZHk8XGTZpI5y5dpECBAuZ3UGZgRIr3M9J4f8+ePWseJbIfDFh032CNavbPP8vLL74k+wMDJSEhQYqXKCHDR46UKe++KyMfH2U+k7ICe9Zm/fiTPD5ipDz/zLPmUSL7wYBFOe5CUpIcO3pUli9bJlv9/OT4sWN6vEzZslK3bl3p/XAfKelSUo8REaWFAYtyFKaoTpw4oVmASFsPPRWqmYEVKlSQ+g3qS9NmzcTT05PTgER0VwxYlKMOBwfL8qXLtC7ggf37dZ9VXgcH6dO3rzw1bryMGv24+UwiovQxYFGOwHoKAtSMz6fL74sW6TFsBn5+8mRZuWa1DBsxXLy8vPQ4EVFGMGBRtktKTJSTJ0/KsqVLdToQ2YGurq7StXs3adqsqVSsWFGrVzjmZ7V1Iso4BizKdrFxcXJw/wH5Yeb3EhsTo/uqPI0gNXTYMKnfgFXEiShrGLAo26BY7e5du+Tdd6bIW2+8ocfQGfjhfv1k1i+ztSUIEVFWMWBRtkhMTNTpv9mzfpaTxn+xiRXatm0rjZs01l5NRET3ggGLsgxlKG/cuKGZf6dOntQkixXLl2uVBaSpozVIi1YtpU7duuZ3EBFlHQMWZdmVK1ckNiZWnnpirIwd84S8+tLLerxUqVJabR3TgK1at9b7RET3itXaKcv27d0nCxcskDWrVmkaO6b9xj09Xip4ekr58m5SpYqXFChYMMvTgazWnjlYQwwLC5NoY4Tr6OioxYSJ7AlHWJQlSFsPRONFPz9JSkoS52LFxLtWLWnfoYO0MkZX9XzqSeEiRbh2dR85ODhI5cqVpXmLFgxWZJcYsChLZn77ncybM0ciIiJ0JNSmbRt56ZWXtUOwk7Oz+SwiouzDgEWZEnrqlLzy0suyZfNmCQ8P12NvT5kijw4dKjVq1tT7REQ5gQGLMizo0CHx8/WTfXv2aGsQLH9iNOVT30c8PDykYMGC5jOJiLIfAxZl2Ib16+W3+fN1/Srl6lUNUCi5hCoWxYoXN59FRJQzGLDortAiBE0B586ZK0cOH9ZjNb295fExY+T3pUvY0p6I7gsGLEoX2oOsWrlSQkJCtBEjsv5KurhIz149pUXLFuxjZUOQ1o5GmZs2bpLt27aZR4nsBwMWpQnllgIDAmX1qlUSFRkpKSkpUqRIEU2d7tyli/jUr28+k2zBtWvXjIB1TDZv2siARXaJAYvS9OzESfLljBmyzW+r3q9UqZL06tNHfp03V9etyLagTBbWF/13+OumbiJ7w4BF/4B09VUrV+n00rlz53RDqleVKvLIoIHSf8AA81lERPcXAxbdIiw0VPYHBIrvli0SFxcn165fl6JFi0qzZs2kqXHzruVtPpOI6P5iwKJbfDF9hnw6bZr8Nm+eTjEVc3aWatWry1tT3tHMQCKiB4UBixR6Wb3xr9dk27ZtmmCRqnXbNjJu/HjzHhHRg8OARVq8NiI8XHbt2iUJ8fFy9epVPY4iqg0aNpSq1avpfSKiB4kBi7ThIkZYJ0JCNHU91dinnpTW7GdFRDaCASsXu3z5sqxfu07efuNNmfrxJ3rM3d1dhgx9VH5btFCaNG0qrmXK6HEiojvB3r/VK1fJN199LUt+Xyx79+w1H8l+DFi5FDYFo6390iVLJDQ0VP784w8p7+Ym/QYMkE6dOkuFChU0nT1PHn5EiChtFy5c0DZD6OCAqjjz586Vz6Z9qre5v86Rnf479RYVFWV+R9bxbJQLoYQPutIGBQXJyhUrJCY6WgoWKqQVLPoN6K+JFiVKlpSHHnrI/A4iojtDt3GcT3b6+8v6deu0C/ln06bpbfbPP+sWGdyOHzum6+UXL16UK5cvS8rVFD0XZabpPQNWLrRv7175/NPP5NWXXjaPiLiVLy9PjR8nJUqUMI8QEd0bFMv++ssv9TZ65Chp0qChjB09Rt77z3vyy+zZei5CwMuoh4zo9r/w9uLzL5hfkT3DhuCTJ05I5E3p68WKFZPadepIseLFxCGvg3n0wcJHE9MIaBqJ9baOnTqZj9CdoJYgihRHRkRI/vz5pVXr1uYjRDknOjpab0jauhssMWD2BsUIUJcU5x29FS8upV1LS8WKFY3n5JXOXTqb33GrWwJW8yZNza/I3lw2rmKQrn5zFiCm/ByNE1vhQoXEIV8+86gNMT6aeM0IVmjDjw86EdkW9MbDeSUzI6WbYVanTNmyUtnLS7fRODjklcFDhpiP3uqWgIVFMrJP+wMDtewSEixS5TOCFIrYNmjQwLi6cTWP2g58NENCjmun4wsXkmXY8OHmI0RkK06Hhel5JTAgwDySOQhONWt5i5cRsOob5yIke6XlloB1JhuyOMg2vf6v1+TokSO65wrq1qun7UH69e8nhY2huaMNjrD+MD6aWzZtlmVLl2piyOw5v5qPEJGt2LVzl/j7+2s5t9uhuWtxYwRV3q287ud0cXGR4sVLSJWqVaSkOWPiYhwvVKiQFCxQQM9F6SV73RKwyP6gW/CRw0fk/f/8R6+EkKWD/VUNGzU0AlYDaduurflM24NpwDWrVsu8uXPlzJkoWbN+vfkIEdkKP18/8d28WX74/nspV66crkc5OTmJs7OzrlU5F3MWV1dXndIvbjzm7OQsnhU99XmZxYBl59CA8aMPPtApwStXruixX+bOkQqenlLGxjcFM2AR2b6bA1bPXr2kXn0fqVmzptSuXVu3y2QnBiw7tto42fv5+sqiBQt0v0MN40PUvHlzef7FyZbYFMyARWT7kHCBG5KjkJ2KtXGcX3DL7r2c3Idlxw4eOCAH9u/XdOdSpUvrVQ82BTs6OrKCBRFlC5xPkKKONSpMBRYsWFCDVk4UHuBZyw5h0Ix08EMHD+rGPQQnlFrCPitUYCcisiIGLDt09swZeXzESDl06JAufDZq3Fj++9mnMnTYY+YziIishwHLzmzbulV+nf2LFrbFZuGSLi7SoVNHTRslIrIyBiw7gqrJAfsCZMOGDRITE6NBClOBGGEVKFDAfBYRkTUxYNkJrFtt9fWTvXv2yLGjR/VYt+7d5JFBAzW9FAujRERWxoBlBxISEiQ4KEg+//RTzQxEcEIKe5t27bQ2FxGRPWDAsjgUnAw5flw2bdwkx44d0/0QZcuWlXbt24tXlSpsF0JEOQ77PE+eOKm3m0v8IVv53LlzuqYeEx2T5QK5qRiwLA419jZt3CjTpk7V+yhi69OggTw/+QXx9PTUY0REOenypcuyfNkyve3Y4W8eFUlKTNTGjSuWr5CAgH3ahuReMGBZ3I7tO7QHUqpmzZtL/wH9zXuUG6AK/wf/eU/atGipN3R3TfXh+x/IsEeH6vF7vbolSoujYz7xqe8j4eGnZaufn5aCw23+vHkyacIE+f6777SIwb1iwLK4PXv2SOipUN1V3r1HD2nUuBFHVrkMqgzUql1bWrZurU05t23dJitXrNAbghQKjlarVo3VTSjH5HVw0Pqk5cqVlxs3bsjvixbpLT4+QXr3eVgGDByo3SGcnZzM78ga1hK0KPzaUGuvbavWulEYH5iff5mtH5rSpUubz7I21hLMnLNnzkrrFi20ER7WLnERg+omKHKMatkdO3dKt9cQ0b1avmy5jvBRvxQXSAMHDZJ33/uP+ei94yWXRWEqsGe37hIbEyM+Pj4yYeJE3W9lL8GKMq9I0SIyYdIkDfQRERHSuEkTeXzMaBkxaqR07d6NwYpyXLmyZaV8+fL69RdffSmTnntWv84uDFgWtHrVKlm9cqVuDsZ0T3WksLdtYz5KJFKgQH6pWLEi99/RfZWYmKg9+CAk5IRERUbq19mFActCMA2InlZb/bbK9u3bJdH4YJQzrmaqVquqUz+Uu2Fkdf7cOa3O75DXQetI5s2b13yUKOclJiXJBeOGyjphYWH/63CeXRiwLAT9ZpBpc2B/oISeOqXH+g8YIA25OZgMly5elFk//aSdpZONrwMDA/UzQ3S/xMZEG5+9ZKlbr55+DiPCw81HsgeTLiwE6cvPP/ucnEAa+0MP6Vzx1Gn/FTc3NylcpIj5LPvBpIuM27xpk+zZtVvbkUdGRBrv1xnd7vCv11/TqUFc8ZYtVy5HehRR7oUycNhbFR0dIydPhEjlypX1XIRR1szvZmqLfGQuV61aTbxreUuVqlXN78wajrAsIj4uXneRY29DcnKyTvfUM65iXMuUsctgRXeHYse4iEFW1vFjx+VqylVp3batNumsXr26PobkHJTtQno7r00pu2Ha78jhIxJ06JAknk+UMmXLire3t9Qxzk0FCxbQsnH7A/frxWd2YMCyiMCAANlkXEWnQvmlPn0fZtuQXAz775YsXiJPPD5aN2z26NlT91u179BBWrRqqc/58fvvZeWKlfo1UXY7euSocTuiI3qcj2oawcrdw0M/h9WMiyZsqYAevXre8+gKOCVo43Blgs7BPxgnns2bNutQG/ts2rZrK8+98ILkz5/fbqd5OCWYPtRsO378uPz5x5/iUcFDE3DweYD4uDjtjQbl3dykTt262racKDshIxBJPn8af6tOzs7iaHzG8piJPnHGZ/C68RhgJig7zlMcYdk47BrHlA+mA7GoXqxYMWnQoIFmBWJdgmsSuVeRokW131lN75p6QkgNVoBpYix844bKJwxWlBNwPipVqpTWMMX5KDVYgYuLi04R4pZd5ykGLBuHgIXCkeHh4brxs1Tp0tKqdWu2DSFd0EZlE3wmbp8axskDj+GGrtNE9oABy4bt2b1Hvpg+Q6sdo+oxyuu89c7b0qJlC13DIiLKTRiwbFhcXKwcOXJEvy5ZsqR4VKggnkhRLlhQjxER5SYMWDYKjRhjY2L/2nNlwBqFVxUvzbphuR0iyo0YsGwU9jUcOXxY99JAy5Yt5eG+ffVrIqLciAHLRn31xRfaCA214Hr26iUNGzfSKUEiotyKAcvGpFy9KvHx8RIQEKjN+BCw0DYE6ctO99j8jIjIyhiwbAw6dO7y36mb8QBN0Jo0baKpy0REuRkDlo0JDg6W9/79b7mYnCzuHu5aYgdTgWiDTkSUmzFg2ZCTJ0/qnquoqCgtS4Sd4tWr19CsQIy0iIhyM54Fbcje3Xvk0KFD5j2RUqVKa+VjIiJiwLJpaH9fqXIl8x4RUe7GgGVDUNC2T58+Mvnll/TWpVtXnRYkIiK2FyEbxvYiRHQzjrCIiMgSGLCIiMgSGLCIiMgSGLCIiMgSGLCIiMgSGLCIiMgSGLCIiMgSGLCIiMgSGLCIiMgSGLCIiMgSGLCIiMgSGLCIiMgSGLCIiMgSGLCIiMgSGLCIiMgSGLCIiMgSGLCIiMgSGLCIiMgSGLCIiMgSGLCIiMgSGLCIiMgSGLCIiMgSGLCIiMgSGLCIiMgSGLCIiMgSGLCIiMgSGLCIiMgSGLCIiMgSGLCIiMgSGLCIiMgSGLCIiMgSGLCIiMgSGLCIiMgSGLCIiMgSGLCIiMgSGLCIiMgSGLCIiMgSGLCIiMgSGLCIiMgSGLCIiMgSGLCIiMgSGLCIiMgSGLCIiMgSGLCIiMgSGLCIiMgSGLCIiMgSGLCIiMgSGLCIiMgSGLCIiMgSGLCIiMgSGLCIiMgSGLCIiMgSGLCIiMgSGLCIiMgSGLCIiMgSGLCIiMgSGLCIiMgSGLCIiMgSGLCIiMgSGLCIiMgSGLCIiMgSGLCIiMgSGLCIiMgSGLCIiMgSGLCIiMgSGLCIiMgSHvrTYH5NRERkszjCIiIiS2DAIiIiS2DAIiIiCxD5f1wfrMpNNdqvAAAAAElFTkSuQmCC)"
      ],
      "metadata": {
        "id": "Cl51ZUkeo3F0"
      }
    },
    {
      "cell_type": "markdown",
      "source": [
        "### 4.2 - Matplotlib + Sympy"
      ],
      "metadata": {
        "id": "EN9z_Qr6I9X7"
      }
    },
    {
      "cell_type": "markdown",
      "source": [
        "Vamos utilizar a classe \"plot\" do Sympy, para projetar os gráficos das funções, passando como argumento a expressão da função, a variável em questão e o intervalo desejado.\n",
        "\n",
        "**Task.** Declare e depois plote o gráfico da curva $v(t) = t^2 sen (at)  $, onde $a>0$ e $t \\in [-1, 1]$."
      ],
      "metadata": {
        "id": "OZtVdV7m3uke"
      }
    },
    {
      "cell_type": "code",
      "source": [
        "# declare a nova variável t e a função v!\n",
        "t = Symbol('t')\n",
        "a = 1\n",
        "v = t**2 * sp.sin(a*t)"
      ],
      "metadata": {
        "id": "cmAQ56Pv4tiC"
      },
      "execution_count": 94,
      "outputs": []
    },
    {
      "cell_type": "code",
      "source": [
        "# plotando o gráfico\n",
        "sp.plot(v, (t, -1, 1) )"
      ],
      "metadata": {
        "colab": {
          "base_uri": "https://localhost:8080/",
          "height": 504
        },
        "id": "zYCjiM2443fh",
        "outputId": "c3c865c1-4615-4ec1-cc3e-8e1cb002d6ba"
      },
      "execution_count": 95,
      "outputs": [
        {
          "output_type": "display_data",
          "data": {
            "text/plain": [
              "<Figure size 640x480 with 1 Axes>"
            ],
            "image/png": "[encoded data removed]"
          },
          "metadata": {}
        },
        {
          "output_type": "execute_result",
          "data": {
            "text/plain": [
              "<sympy.plotting.backends.matplotlibbackend.matplotlib.MatplotlibBackend at 0x7a5468c742c0>"
            ]
          },
          "metadata": {},
          "execution_count": 95
        }
      ]
    },
    {
      "cell_type": "markdown",
      "source": [
        "É possível \"embelezar\" o gráfico:\n",
        "- incluindo título (title);\n",
        "- adicionando rótulo à função (legend + label).\n",
        "\n",
        "Dessa forma:"
      ],
      "metadata": {
        "id": "BI2TS3Yv5ZHe"
      }
    },
    {
      "cell_type": "code",
      "source": [
        "# definindo o titulo e o rotulo com strings\n",
        "titulo = 'Velocidade da partícula no instante t'\n",
        "rotulo = ['v(t) da maçã de newton']"
      ],
      "metadata": {
        "id": "mtkBwbIy50Ho"
      },
      "execution_count": 97,
      "outputs": []
    },
    {
      "cell_type": "code",
      "source": [
        "# adicionando novos argumentos ao código do plot\n",
        "sp.plot(v, (t, -10, 10),\n",
        "        legend=True, #para o sympy entender que queremos mostrar essas informações\n",
        "        label=rotulo,  #define de qual variável (string) \"puxar\" rótulo da função\n",
        "        title=titulo)  #define  de qual variável (string) \"puxar\" título do grafico"
      ],
      "metadata": {
        "colab": {
          "base_uri": "https://localhost:8080/",
          "height": 504
        },
        "id": "58LExxct6Jsm",
        "outputId": "a876096f-b682-4ae1-a93c-1265e333bcb3"
      },
      "execution_count": 98,
      "outputs": [
        {
          "output_type": "display_data",
          "data": {
            "text/plain": [
              "<Figure size 640x480 with 1 Axes>"
            ],
            "image/png": "[encoded data removed]"
          },
          "metadata": {}
        },
        {
          "output_type": "execute_result",
          "data": {
            "text/plain": [
              "<sympy.plotting.backends.matplotlibbackend.matplotlib.MatplotlibBackend at 0x7a5468ffaab0>"
            ]
          },
          "metadata": {},
          "execution_count": 98
        }
      ]
    },
    {
      "cell_type": "code",
      "source": [
        "# podemos passar mais de um rótulo, dependendo da quantidade de funções plotadas\n",
        "\n",
        "titulo = 'Velocidade e tempo quadrático'\n",
        "rotulo = ['vel.', 't_quad']\n",
        "\n",
        "sp.plot(v, t**2 -1, (t, -1, 1),  #adicionando a função t**2\n",
        "        legend=True, #para o sympy entender que queremos mostrar essas informações\n",
        "        label=rotulo,  #define de qual variável (string) \"puxar\" rótulo da função\n",
        "        title=titulo)  #define  de qual variável (string) \"puxar\" título do grafico\n"
      ],
      "metadata": {
        "colab": {
          "base_uri": "https://localhost:8080/",
          "height": 504
        },
        "id": "QNGW0MFN7KPL",
        "outputId": "c9f00156-1be8-4268-87d1-e25f4859df7d"
      },
      "execution_count": 101,
      "outputs": [
        {
          "output_type": "display_data",
          "data": {
            "text/plain": [
              "<Figure size 640x480 with 1 Axes>"
            ],
            "image/png": "[encoded data removed]"
          },
          "metadata": {}
        },
        {
          "output_type": "execute_result",
          "data": {
            "text/plain": [
              "<sympy.plotting.backends.matplotlibbackend.matplotlib.MatplotlibBackend at 0x7a5468f098e0>"
            ]
          },
          "metadata": {},
          "execution_count": 101
        }
      ]
    },
    {
      "cell_type": "markdown",
      "source": [
        "----"
      ],
      "metadata": {
        "id": "l3S1Dq1sEDPZ"
      }
    },
    {
      "cell_type": "markdown",
      "source": [
        "### 4.3 - Matplotlib + Numpy"
      ],
      "metadata": {
        "id": "d3-mlhJyMgjp"
      }
    },
    {
      "cell_type": "markdown",
      "source": [
        "Vamos utilizar a classe maplotlib.pyplot para projetar os gráficos das funções, passando como argumento a expressão da função declarada com Numpy, a variável em questão e o intervalo desejado.\n"
      ],
      "metadata": {
        "id": "AUX2P7qVMgjq"
      }
    },
    {
      "cell_type": "markdown",
      "source": [
        "Importando as bibliotecas"
      ],
      "metadata": {
        "id": "mkfHUy17NjNc"
      }
    },
    {
      "cell_type": "code",
      "source": [
        "import matplotlib.pyplot as plt\n",
        "import numpy as np"
      ],
      "metadata": {
        "id": "BIQsswnBNeN0"
      },
      "execution_count": 105,
      "outputs": []
    },
    {
      "cell_type": "markdown",
      "source": [
        "\n",
        "**Task.** Declare e depois plote o gráfico da curva $v(t) = t^2 sen (at)  $, onde $a>0$ e $t \\in [-1, 1]$."
      ],
      "metadata": {
        "id": "oT68YDWINc7t"
      }
    },
    {
      "cell_type": "code",
      "source": [
        "t = np.linspace(-1,1, 1000)\n",
        "a = 1\n",
        "v = t**2 * np.sin(a*t)\n",
        "\n",
        "# plotando o gráfico\n",
        "plt.plot(t, v )   # passando como argumento primeiro o intervalo e depois a função\n",
        "\n",
        "plt.ylabel('v(t)')\n",
        "plt.xlabel('t')\n",
        "plt.grid() #grade da gráfico\n",
        "plt.show()"
      ],
      "metadata": {
        "colab": {
          "base_uri": "https://localhost:8080/",
          "height": 449
        },
        "id": "0K5ZkR98Mgjr",
        "outputId": "e3848b00-cc05-4acc-a915-c24b876b9288"
      },
      "execution_count": 122,
      "outputs": [
        {
          "output_type": "display_data",
          "data": {
            "text/plain": [
              "<Figure size 640x480 with 1 Axes>"
            ],
            "image/png": "[encoded data removed]"
          },
          "metadata": {}
        }
      ]
    },
    {
      "cell_type": "code",
      "source": [
        "t = np.linspace(-1,1, 1000)\n",
        "a = 1\n",
        "v = t**2 * np.sin(a*t)\n",
        "\n",
        "# plotando o gráfico\n",
        "plt.plot(t, v, label='v(t)' )   # passando como argumento primeiro o intervalo e depois a função\n",
        "\n",
        "plt.plot(t, t**2-1, label='$f(t) = t^2-1$' )\n",
        "\n",
        "\n",
        "plt.legend()\n",
        "plt.ylabel('v(t)')\n",
        "plt.xlabel('t')\n",
        "plt.grid() #grade da gráfico\n",
        "plt.show()"
      ],
      "metadata": {
        "colab": {
          "base_uri": "https://localhost:8080/",
          "height": 449
        },
        "id": "FHF-L86OO3DA",
        "outputId": "66d717ca-f190-48e9-8d97-705634d2bcaa"
      },
      "execution_count": 128,
      "outputs": [
        {
          "output_type": "display_data",
          "data": {
            "text/plain": [
              "<Figure size 640x480 with 1 Axes>"
            ],
            "image/png": "[encoded data removed]"
          },
          "metadata": {}
        }
      ]
    },
    {
      "cell_type": "markdown",
      "source": [
        "----"
      ],
      "metadata": {
        "id": "IT6zEyH4Mgjt"
      }
    },
    {
      "cell_type": "markdown",
      "source": [
        "**Lista de presença - Aula 1**\n",
        "\n",
        "https://forms.gle/wc7Gj64WWMcMxDtE9\n",
        "\n",
        " ![presenca_1.png](data:image/png;base64,iVBORw0KGgoAAAANSUhEUgAAALkAAAC5AQAAAABc1qPxAAABXUlEQVR42u1XMW7EMAxTmsGjn+CfJB8z4AD52OUnfkLGDIFV0ka3disYoD0PQQwPtESRks2/X5u9D/7wwWlmk2/pmvDnL+wCDj7sh/WLBwQv7off3BQPB66kBM8GyN2vFZGH47QkB7/tsujVHwHfSPwD4OQcGb/6Vs05q/3MCXTjI672sXYH7lzDlwZlaa9d4qHFO9kSpeB+p9CsoNbgNE7RSTknJG7AHHgbF5KBzxXJ3lhrhcRnMTgcHUFTdPS6Kq322vXmLcJpVnG1d50jaEZOAtRdjTrnLpnFvUo5d9g6GstExS/sLlLOgw+p5YTWptV5qaOrrchB76tB7XBYo9Z4F2nBWR/fDtqNWU4u7mrwWFuMQXO2EOscnF8T54iDBq+eZGb6y03OH5jh4Oiv2J2myEdncj7hBv3R4OrIfbwc3B+YXnvaOTuO5iruar2noNobpki1zt9v5/9z8Als4kcH+KdHSAAAAABJRU5ErkJggg==)"
      ],
      "metadata": {
        "id": "X-wwtaBiMgju"
      }
    }
  ]
}